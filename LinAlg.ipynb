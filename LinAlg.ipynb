{
 "cells": [
  {
   "cell_type": "markdown",
   "metadata": {},
   "source": [
    "# \"Sure\" Insurance Analytics: Customer Insights, Predictive Modelling, and Data Privacy through Obfuscation with Machine Learning for Sure Tomorrow"
   ]
  },
  {
   "cell_type": "markdown",
   "metadata": {},
   "source": [
    "This project will explore the application of machine learning in solving real-world challenges for Sure Tomorrow, an insurance company seeking to enhance its customer service and marketing efforts. The company has tasked me with addressing four distinct problems using machine learning models, with a focus on both predictive accuracy and data privacy.\n",
    "\n",
    "Customer Similarity: The first task is to develop a model to identify customers with profiles similar to a given individual. This will help Sure Tomorrow's agents target marketing efforts more effectively.\n",
    "Insurance Benefit Prediction: The second task involves building a model to predict the likelihood of a new customer receiving an insurance benefit, while comparing its performance against a simple dummy model.\n",
    "Benefit Quantity Prediction: In the third task, I will apply linear regression to predict the number of benefits a new customer is likely to receive, enabling the company to better allocate resources and improve decision-making.\n",
    "Data Privacy through Obfuscation: Lastly, the project will determine a way to protect sensitive customer data using data obfuscation techniques and ensuring that personal information could not be reconstructed if the data were compromised, all while preserving the model's predictive abilities."
   ]
  },
  {
   "cell_type": "markdown",
   "metadata": {},
   "source": [
    "# Data Preprocessing & Exploration\n",
    "\n",
    "## Initialization"
   ]
  },
  {
   "cell_type": "code",
   "execution_count": 3,
   "metadata": {},
   "outputs": [],
   "source": [
    "# Standard library imports\n",
    "import math\n",
    "\n",
    "# Third-party imports\n",
    "import numpy as np\n",
    "import pandas as pd\n",
    "import seaborn as sns\n",
    "\n",
    "from IPython.display import display\n",
    "\n",
    "# Scikit-learn imports\n",
    "from sklearn.linear_model import LinearRegression\n",
    "from sklearn.metrics import f1_score, mean_squared_error, r2_score\n",
    "from sklearn.model_selection import train_test_split\n",
    "from sklearn.neighbors import NearestNeighbors, KNeighborsClassifier\n",
    "from sklearn.preprocessing import MaxAbsScaler\n"
   ]
  },
  {
   "cell_type": "markdown",
   "metadata": {},
   "source": [
    "## Loading Data"
   ]
  },
  {
   "cell_type": "code",
   "execution_count": 4,
   "metadata": {},
   "outputs": [],
   "source": [
    "df = pd.read_csv('/datasets/insurance_us.csv')"
   ]
  },
  {
   "cell_type": "code",
   "execution_count": 5,
   "metadata": {},
   "outputs": [],
   "source": [
    "df = df.rename(columns={'Gender': 'gender', 'Age': 'age', 'Salary': 'income', 'Family members': 'family_members', 'Insurance benefits': 'insurance_benefits'})"
   ]
  },
  {
   "cell_type": "code",
   "execution_count": 6,
   "metadata": {},
   "outputs": [
    {
     "data": {
      "text/html": [
       "<div>\n",
       "<style scoped>\n",
       "    .dataframe tbody tr th:only-of-type {\n",
       "        vertical-align: middle;\n",
       "    }\n",
       "\n",
       "    .dataframe tbody tr th {\n",
       "        vertical-align: top;\n",
       "    }\n",
       "\n",
       "    .dataframe thead th {\n",
       "        text-align: right;\n",
       "    }\n",
       "</style>\n",
       "<table border=\"1\" class=\"dataframe\">\n",
       "  <thead>\n",
       "    <tr style=\"text-align: right;\">\n",
       "      <th></th>\n",
       "      <th>gender</th>\n",
       "      <th>age</th>\n",
       "      <th>income</th>\n",
       "      <th>family_members</th>\n",
       "      <th>insurance_benefits</th>\n",
       "    </tr>\n",
       "  </thead>\n",
       "  <tbody>\n",
       "    <tr>\n",
       "      <th>142</th>\n",
       "      <td>0</td>\n",
       "      <td>22.0</td>\n",
       "      <td>38000.0</td>\n",
       "      <td>2</td>\n",
       "      <td>0</td>\n",
       "    </tr>\n",
       "    <tr>\n",
       "      <th>2994</th>\n",
       "      <td>1</td>\n",
       "      <td>29.0</td>\n",
       "      <td>32200.0</td>\n",
       "      <td>1</td>\n",
       "      <td>0</td>\n",
       "    </tr>\n",
       "    <tr>\n",
       "      <th>482</th>\n",
       "      <td>1</td>\n",
       "      <td>37.0</td>\n",
       "      <td>41200.0</td>\n",
       "      <td>4</td>\n",
       "      <td>0</td>\n",
       "    </tr>\n",
       "    <tr>\n",
       "      <th>3814</th>\n",
       "      <td>0</td>\n",
       "      <td>33.0</td>\n",
       "      <td>17800.0</td>\n",
       "      <td>3</td>\n",
       "      <td>0</td>\n",
       "    </tr>\n",
       "    <tr>\n",
       "      <th>1905</th>\n",
       "      <td>1</td>\n",
       "      <td>26.0</td>\n",
       "      <td>38000.0</td>\n",
       "      <td>2</td>\n",
       "      <td>0</td>\n",
       "    </tr>\n",
       "    <tr>\n",
       "      <th>1392</th>\n",
       "      <td>1</td>\n",
       "      <td>22.0</td>\n",
       "      <td>39100.0</td>\n",
       "      <td>1</td>\n",
       "      <td>0</td>\n",
       "    </tr>\n",
       "    <tr>\n",
       "      <th>2752</th>\n",
       "      <td>1</td>\n",
       "      <td>27.0</td>\n",
       "      <td>21100.0</td>\n",
       "      <td>1</td>\n",
       "      <td>0</td>\n",
       "    </tr>\n",
       "    <tr>\n",
       "      <th>795</th>\n",
       "      <td>1</td>\n",
       "      <td>26.0</td>\n",
       "      <td>51200.0</td>\n",
       "      <td>1</td>\n",
       "      <td>0</td>\n",
       "    </tr>\n",
       "    <tr>\n",
       "      <th>4824</th>\n",
       "      <td>1</td>\n",
       "      <td>20.0</td>\n",
       "      <td>46500.0</td>\n",
       "      <td>0</td>\n",
       "      <td>0</td>\n",
       "    </tr>\n",
       "    <tr>\n",
       "      <th>2424</th>\n",
       "      <td>1</td>\n",
       "      <td>18.0</td>\n",
       "      <td>57100.0</td>\n",
       "      <td>1</td>\n",
       "      <td>0</td>\n",
       "    </tr>\n",
       "  </tbody>\n",
       "</table>\n",
       "</div>"
      ],
      "text/plain": [
       "      gender   age   income  family_members  insurance_benefits\n",
       "142        0  22.0  38000.0               2                   0\n",
       "2994       1  29.0  32200.0               1                   0\n",
       "482        1  37.0  41200.0               4                   0\n",
       "3814       0  33.0  17800.0               3                   0\n",
       "1905       1  26.0  38000.0               2                   0\n",
       "1392       1  22.0  39100.0               1                   0\n",
       "2752       1  27.0  21100.0               1                   0\n",
       "795        1  26.0  51200.0               1                   0\n",
       "4824       1  20.0  46500.0               0                   0\n",
       "2424       1  18.0  57100.0               1                   0"
      ]
     },
     "execution_count": 6,
     "metadata": {},
     "output_type": "execute_result"
    }
   ],
   "source": [
    "df.sample(10)"
   ]
  },
  {
   "cell_type": "code",
   "execution_count": 7,
   "metadata": {},
   "outputs": [
    {
     "name": "stdout",
     "output_type": "stream",
     "text": [
      "<class 'pandas.core.frame.DataFrame'>\n",
      "RangeIndex: 5000 entries, 0 to 4999\n",
      "Data columns (total 5 columns):\n",
      " #   Column              Non-Null Count  Dtype  \n",
      "---  ------              --------------  -----  \n",
      " 0   gender              5000 non-null   int64  \n",
      " 1   age                 5000 non-null   float64\n",
      " 2   income              5000 non-null   float64\n",
      " 3   family_members      5000 non-null   int64  \n",
      " 4   insurance_benefits  5000 non-null   int64  \n",
      "dtypes: float64(2), int64(3)\n",
      "memory usage: 195.4 KB\n"
     ]
    }
   ],
   "source": [
    "df.info()"
   ]
  },
  {
   "cell_type": "code",
   "execution_count": 8,
   "metadata": {},
   "outputs": [],
   "source": [
    "# fixing the age type (from float to int)\n",
    "df['age'] = df['age'].astype(int)"
   ]
  },
  {
   "cell_type": "code",
   "execution_count": 9,
   "metadata": {},
   "outputs": [
    {
     "name": "stdout",
     "output_type": "stream",
     "text": [
      "<class 'pandas.core.frame.DataFrame'>\n",
      "RangeIndex: 5000 entries, 0 to 4999\n",
      "Data columns (total 5 columns):\n",
      " #   Column              Non-Null Count  Dtype  \n",
      "---  ------              --------------  -----  \n",
      " 0   gender              5000 non-null   int64  \n",
      " 1   age                 5000 non-null   int64  \n",
      " 2   income              5000 non-null   float64\n",
      " 3   family_members      5000 non-null   int64  \n",
      " 4   insurance_benefits  5000 non-null   int64  \n",
      "dtypes: float64(1), int64(4)\n",
      "memory usage: 195.4 KB\n"
     ]
    }
   ],
   "source": [
    "# checking to see that the conversion was successful\n",
    "df.info()"
   ]
  },
  {
   "cell_type": "code",
   "execution_count": 10,
   "metadata": {},
   "outputs": [
    {
     "data": {
      "text/html": [
       "<div>\n",
       "<style scoped>\n",
       "    .dataframe tbody tr th:only-of-type {\n",
       "        vertical-align: middle;\n",
       "    }\n",
       "\n",
       "    .dataframe tbody tr th {\n",
       "        vertical-align: top;\n",
       "    }\n",
       "\n",
       "    .dataframe thead th {\n",
       "        text-align: right;\n",
       "    }\n",
       "</style>\n",
       "<table border=\"1\" class=\"dataframe\">\n",
       "  <thead>\n",
       "    <tr style=\"text-align: right;\">\n",
       "      <th></th>\n",
       "      <th>gender</th>\n",
       "      <th>age</th>\n",
       "      <th>income</th>\n",
       "      <th>family_members</th>\n",
       "      <th>insurance_benefits</th>\n",
       "    </tr>\n",
       "  </thead>\n",
       "  <tbody>\n",
       "    <tr>\n",
       "      <th>count</th>\n",
       "      <td>5000.000000</td>\n",
       "      <td>5000.000000</td>\n",
       "      <td>5000.000000</td>\n",
       "      <td>5000.000000</td>\n",
       "      <td>5000.000000</td>\n",
       "    </tr>\n",
       "    <tr>\n",
       "      <th>mean</th>\n",
       "      <td>0.499000</td>\n",
       "      <td>30.952800</td>\n",
       "      <td>39916.360000</td>\n",
       "      <td>1.194200</td>\n",
       "      <td>0.148000</td>\n",
       "    </tr>\n",
       "    <tr>\n",
       "      <th>std</th>\n",
       "      <td>0.500049</td>\n",
       "      <td>8.440807</td>\n",
       "      <td>9900.083569</td>\n",
       "      <td>1.091387</td>\n",
       "      <td>0.463183</td>\n",
       "    </tr>\n",
       "    <tr>\n",
       "      <th>min</th>\n",
       "      <td>0.000000</td>\n",
       "      <td>18.000000</td>\n",
       "      <td>5300.000000</td>\n",
       "      <td>0.000000</td>\n",
       "      <td>0.000000</td>\n",
       "    </tr>\n",
       "    <tr>\n",
       "      <th>25%</th>\n",
       "      <td>0.000000</td>\n",
       "      <td>24.000000</td>\n",
       "      <td>33300.000000</td>\n",
       "      <td>0.000000</td>\n",
       "      <td>0.000000</td>\n",
       "    </tr>\n",
       "    <tr>\n",
       "      <th>50%</th>\n",
       "      <td>0.000000</td>\n",
       "      <td>30.000000</td>\n",
       "      <td>40200.000000</td>\n",
       "      <td>1.000000</td>\n",
       "      <td>0.000000</td>\n",
       "    </tr>\n",
       "    <tr>\n",
       "      <th>75%</th>\n",
       "      <td>1.000000</td>\n",
       "      <td>37.000000</td>\n",
       "      <td>46600.000000</td>\n",
       "      <td>2.000000</td>\n",
       "      <td>0.000000</td>\n",
       "    </tr>\n",
       "    <tr>\n",
       "      <th>max</th>\n",
       "      <td>1.000000</td>\n",
       "      <td>65.000000</td>\n",
       "      <td>79000.000000</td>\n",
       "      <td>6.000000</td>\n",
       "      <td>5.000000</td>\n",
       "    </tr>\n",
       "  </tbody>\n",
       "</table>\n",
       "</div>"
      ],
      "text/plain": [
       "            gender          age        income  family_members  \\\n",
       "count  5000.000000  5000.000000   5000.000000     5000.000000   \n",
       "mean      0.499000    30.952800  39916.360000        1.194200   \n",
       "std       0.500049     8.440807   9900.083569        1.091387   \n",
       "min       0.000000    18.000000   5300.000000        0.000000   \n",
       "25%       0.000000    24.000000  33300.000000        0.000000   \n",
       "50%       0.000000    30.000000  40200.000000        1.000000   \n",
       "75%       1.000000    37.000000  46600.000000        2.000000   \n",
       "max       1.000000    65.000000  79000.000000        6.000000   \n",
       "\n",
       "       insurance_benefits  \n",
       "count         5000.000000  \n",
       "mean             0.148000  \n",
       "std              0.463183  \n",
       "min              0.000000  \n",
       "25%              0.000000  \n",
       "50%              0.000000  \n",
       "75%              0.000000  \n",
       "max              5.000000  "
      ]
     },
     "execution_count": 10,
     "metadata": {},
     "output_type": "execute_result"
    }
   ],
   "source": [
    "# descriptive statistics. \n",
    "df.describe()"
   ]
  },
  {
   "cell_type": "markdown",
   "metadata": {},
   "source": [
    "The data set contains data for 5000 customers of Sure Tomorrow.  In terms of gender, the customer sample is split approximately 50/50.  Given the data was sent without clarification as to which gender corresponds to 0 vs 1, we will assume the general convention was followed of 0 for female, 1 for male.  The customers represent all adult age groups 18-65, though the data includes primarily younger customers under 40.  Customer income is typical, assuming the salary is in USD and represents US customers.  The median of 40k corresponds to the US median of 37k, though the data ranges from presumably part-time employment earning only 5k per year up to 79k for the highest earner in the set.  Families included in the data are primarily small, with approximately 3/4 of customers having 0-2 family members, though the data contains families of up to 6.  Finally, with regard to insurance benefits paid out, 3/4 of the customers in the set have never made a claim, though at least one customer has made a claim every year for the past 5 years.\n",
    "\n",
    "The data overall appears normal, but I will perform deeper exploratory data analysis before proceeding."
   ]
  },
  {
   "cell_type": "markdown",
   "metadata": {},
   "source": [
    "## EDA"
   ]
  },
  {
   "cell_type": "code",
   "execution_count": 11,
   "metadata": {},
   "outputs": [
    {
     "data": {
      "image/png": "[encoded data removed]",
      "text/plain": [
       "<Figure size 1200x1200 with 30 Axes>"
      ]
     },
     "metadata": {},
     "output_type": "display_data"
    }
   ],
   "source": [
    "g = sns.pairplot(df, kind='hist')\n",
    "g.fig.set_size_inches(12, 12)"
   ]
  },
  {
   "cell_type": "markdown",
   "metadata": {},
   "source": [
    "While it is difficult to spot obvious clusters as it is difficult to combine several variables simultaneously (to analyze multivariate distributions), a few observations can be made.  The 5-time claimant is an older male with an average income.  None of the claims have come from customers under 40 and the number of benefits claimed naturally increases with age.  Male customers have slightly higher incomes than female customers; in fact, the difference is seemingly precisely aligned with the wage gap in the US.  Family size is equally distributed across gender and has an inverse relationship with age.\n",
    "\n",
    "LA and ML will help better evaluate distributions in depts."
   ]
  },
  {
   "cell_type": "markdown",
   "metadata": {},
   "source": [
    "# Task 1. Similar Customers"
   ]
  },
  {
   "cell_type": "code",
   "execution_count": 12,
   "metadata": {},
   "outputs": [],
   "source": [
    "feature_names = ['gender', 'age', 'income', 'family_members']\n",
    "target = 'insurance_benefits'"
   ]
  },
  {
   "cell_type": "code",
   "execution_count": 13,
   "metadata": {},
   "outputs": [],
   "source": [
    "def get_knn(df, n, k, metric):\n",
    "    \n",
    "    \"\"\"\n",
    "    Returns k nearest neighbors\n",
    "\n",
    "    :param df: pandas DataFrame used to find similar objects within\n",
    "    :param n: object no for which the nearest neighbours are looked for\n",
    "    :param k: the number of the nearest neighbours to return\n",
    "    :param metric: name of distance metric\n",
    "    \"\"\"\n",
    "        \n",
    "    nbrs = NearestNeighbors(metric=metric)\n",
    "    nbrs.fit(df[feature_names])\n",
    "    nbrs_distances, nbrs_indices = nbrs.kneighbors([df.iloc[n][feature_names]], n_neighbors = k, return_distance=True)\n",
    "    \n",
    "    df_res = pd.concat([\n",
    "        df.iloc[nbrs_indices[0]], \n",
    "        pd.DataFrame(nbrs_distances.T, index=nbrs_indices[0], columns=['distance'])\n",
    "        ], axis=1)\n",
    "    \n",
    "    return df_res"
   ]
  },
  {
   "cell_type": "markdown",
   "metadata": {},
   "source": [
    "Scaling the data."
   ]
  },
  {
   "cell_type": "code",
   "execution_count": 14,
   "metadata": {},
   "outputs": [],
   "source": [
    "transformer_mas = sklearn.preprocessing.MaxAbsScaler().fit(df[feature_names])\n",
    "\n",
    "df_scaled = df.copy()\n",
    "df_scaled[feature_names] = transformer_mas.transform(df[feature_names])\n",
    "df_scaled_features = df_scaled.drop(columns=target)"
   ]
  },
  {
   "cell_type": "code",
   "execution_count": 15,
   "metadata": {},
   "outputs": [
    {
     "data": {
      "text/html": [
       "<div>\n",
       "<style scoped>\n",
       "    .dataframe tbody tr th:only-of-type {\n",
       "        vertical-align: middle;\n",
       "    }\n",
       "\n",
       "    .dataframe tbody tr th {\n",
       "        vertical-align: top;\n",
       "    }\n",
       "\n",
       "    .dataframe thead th {\n",
       "        text-align: right;\n",
       "    }\n",
       "</style>\n",
       "<table border=\"1\" class=\"dataframe\">\n",
       "  <thead>\n",
       "    <tr style=\"text-align: right;\">\n",
       "      <th></th>\n",
       "      <th>gender</th>\n",
       "      <th>age</th>\n",
       "      <th>income</th>\n",
       "      <th>family_members</th>\n",
       "    </tr>\n",
       "  </thead>\n",
       "  <tbody>\n",
       "    <tr>\n",
       "      <th>count</th>\n",
       "      <td>5000.000000</td>\n",
       "      <td>5000.000000</td>\n",
       "      <td>5000.000000</td>\n",
       "      <td>5000.000000</td>\n",
       "    </tr>\n",
       "    <tr>\n",
       "      <th>mean</th>\n",
       "      <td>0.499000</td>\n",
       "      <td>0.476197</td>\n",
       "      <td>0.505270</td>\n",
       "      <td>0.199033</td>\n",
       "    </tr>\n",
       "    <tr>\n",
       "      <th>std</th>\n",
       "      <td>0.500049</td>\n",
       "      <td>0.129859</td>\n",
       "      <td>0.125318</td>\n",
       "      <td>0.181898</td>\n",
       "    </tr>\n",
       "    <tr>\n",
       "      <th>min</th>\n",
       "      <td>0.000000</td>\n",
       "      <td>0.276923</td>\n",
       "      <td>0.067089</td>\n",
       "      <td>0.000000</td>\n",
       "    </tr>\n",
       "    <tr>\n",
       "      <th>25%</th>\n",
       "      <td>0.000000</td>\n",
       "      <td>0.369231</td>\n",
       "      <td>0.421519</td>\n",
       "      <td>0.000000</td>\n",
       "    </tr>\n",
       "    <tr>\n",
       "      <th>50%</th>\n",
       "      <td>0.000000</td>\n",
       "      <td>0.461538</td>\n",
       "      <td>0.508861</td>\n",
       "      <td>0.166667</td>\n",
       "    </tr>\n",
       "    <tr>\n",
       "      <th>75%</th>\n",
       "      <td>1.000000</td>\n",
       "      <td>0.569231</td>\n",
       "      <td>0.589873</td>\n",
       "      <td>0.333333</td>\n",
       "    </tr>\n",
       "    <tr>\n",
       "      <th>max</th>\n",
       "      <td>1.000000</td>\n",
       "      <td>1.000000</td>\n",
       "      <td>1.000000</td>\n",
       "      <td>1.000000</td>\n",
       "    </tr>\n",
       "  </tbody>\n",
       "</table>\n",
       "</div>"
      ],
      "text/plain": [
       "            gender          age       income  family_members\n",
       "count  5000.000000  5000.000000  5000.000000     5000.000000\n",
       "mean      0.499000     0.476197     0.505270        0.199033\n",
       "std       0.500049     0.129859     0.125318        0.181898\n",
       "min       0.000000     0.276923     0.067089        0.000000\n",
       "25%       0.000000     0.369231     0.421519        0.000000\n",
       "50%       0.000000     0.461538     0.508861        0.166667\n",
       "75%       1.000000     0.569231     0.589873        0.333333\n",
       "max       1.000000     1.000000     1.000000        1.000000"
      ]
     },
     "execution_count": 15,
     "metadata": {},
     "output_type": "execute_result"
    }
   ],
   "source": [
    "df_scaled_features.describe()"
   ]
  },
  {
   "cell_type": "markdown",
   "metadata": {},
   "source": [
    "Now, I will get similar records for every individual combination"
   ]
  },
  {
   "cell_type": "code",
   "execution_count": 16,
   "metadata": {},
   "outputs": [],
   "source": [
    "metrics = ['euclidean', 'manhattan']\n",
    "k = 5\n",
    "n = np.random.randint(0, len(df))"
   ]
  },
  {
   "cell_type": "code",
   "execution_count": 17,
   "metadata": {},
   "outputs": [
    {
     "name": "stdout",
     "output_type": "stream",
     "text": [
      "Similar records to original, unscaled data:\n",
      "Using metric: euclidean\n",
      "      gender  age   income  family_members  distance\n",
      "201        0   22  32100.0               0  0.000000\n",
      "2359       1   23  32100.0               1  1.732051\n",
      "4767       0   24  32100.0               1  2.236068\n",
      "2072       0   19  32100.0               0  3.000000\n",
      "3385       0   19  32100.0               1  3.162278\n",
      "Using metric: manhattan\n",
      "      gender  age   income  family_members  distance\n",
      "201        0   22  32100.0               0       0.0\n",
      "2072       0   19  32100.0               0       3.0\n",
      "2359       1   23  32100.0               1       3.0\n",
      "4767       0   24  32100.0               1       3.0\n",
      "3385       0   19  32100.0               1       4.0\n"
     ]
    }
   ],
   "source": [
    "print('Similar records to original, unscaled data:')\n",
    "for metric in metrics:\n",
    "    sim_recs = get_knn(df[feature_names], n, k, metric)\n",
    "    print('Using metric:', metric)\n",
    "    print(sim_recs)"
   ]
  },
  {
   "cell_type": "code",
   "execution_count": 18,
   "metadata": {},
   "outputs": [
    {
     "name": "stdout",
     "output_type": "stream",
     "text": [
      "Similar records to scaled data:\n",
      "Using metric: euclidean\n",
      "      gender       age    income  family_members  distance\n",
      "201      0.0  0.338462  0.406329             0.0  0.000000\n",
      "2057     0.0  0.338462  0.402532             0.0  0.003797\n",
      "1834     0.0  0.323077  0.401266             0.0  0.016196\n",
      "4853     0.0  0.323077  0.397468             0.0  0.017754\n",
      "2635     0.0  0.353846  0.416456             0.0  0.018418\n",
      "Using metric: manhattan\n",
      "      gender       age    income  family_members  distance\n",
      "201      0.0  0.338462  0.406329             0.0  0.000000\n",
      "2057     0.0  0.338462  0.402532             0.0  0.003797\n",
      "1834     0.0  0.323077  0.401266             0.0  0.020448\n",
      "4853     0.0  0.323077  0.397468             0.0  0.024245\n",
      "2635     0.0  0.353846  0.416456             0.0  0.025511\n"
     ]
    }
   ],
   "source": [
    "print('Similar records to scaled data:')\n",
    "for metric in metrics:\n",
    "    sim_scaled_recs = get_knn(df_scaled_features, n, k, metric)\n",
    "    print('Using metric:', metric)\n",
    "    print(sim_scaled_recs)"
   ]
  },
  {
   "cell_type": "markdown",
   "metadata": {},
   "source": [
    "The data not being scaled affects the kNN algorithm.  Having run the algorithm several times with a different random n, it is clear that income skews the algorithm more than the other features with the unscaled data, which explains why it does not overlap with the neighbors identified when the algorithm is run with the scaled data.  In every run, the income of all nearest neighbors is identical for the unscaled data, though other features may vary.  This is not the case with the scaled data, however.  When the algorithm is run on the scaled data, it seems to favor selecting records with the same gender and family_members.  Age tends to vary when run on the scaled data, but the variance is less than it is with the unscaled data.  Overall, the scaled data seems to be a more reliable option for machine learning purposes given that gender, age, and family_members are more likely to determine whether or not a customer receives an insurance benefit.  Income, while not inconsequential, does not impact the probability of receiving an insurance benefit as heavily as those features."
   ]
  },
  {
   "cell_type": "markdown",
   "metadata": {},
   "source": [
    "The results using the Manhattan distance metric are highly similar to the Euclidean metric, though there is some variance evident.  The algorithm weighs age more equally than the Euclidean metric, regardless of scaling, due to its reliance on absolute distance rather than squared distances like the Euclidean metric.  In many runs, the four nearest neighbors were the same, but the order was different due to the distance calculation.  In every case, scaled or unscaled, age was different between the records.  Some records had variance across other features, but age consistently impacted the distance calculation in every run.  Especially when the data is unscaled, the Manhattan distance is likely better as it is less sensitive to outliers and income disproportionally affects identification of similar customers."
   ]
  },
  {
   "cell_type": "markdown",
   "metadata": {},
   "source": [
    "# Task 2. Is Customer Likely to Receive Insurance Benefit?"
   ]
  },
  {
   "cell_type": "markdown",
   "metadata": {},
   "source": [
    "In terms of machine learning, this is a binary classification task as it predicts whether or not a benefit will be received, not how many benefits a given client will receive."
   ]
  },
  {
   "cell_type": "code",
   "execution_count": 19,
   "metadata": {},
   "outputs": [],
   "source": [
    "# calculating the target\n",
    "df['ins_bens_recd'] = (df['insurance_benefits'] > 0).astype(int)\n",
    "features = feature_names\n",
    "\n",
    "df_target = df['ins_bens_recd']\n",
    "df_features = df[features]"
   ]
  },
  {
   "cell_type": "code",
   "execution_count": 21,
   "metadata": {},
   "outputs": [
    {
     "data": {
      "text/plain": [
       "array([0, 1])"
      ]
     },
     "execution_count": 21,
     "metadata": {},
     "output_type": "execute_result"
    }
   ],
   "source": [
    "df_target.unique()"
   ]
  },
  {
   "cell_type": "code",
   "execution_count": 22,
   "metadata": {},
   "outputs": [],
   "source": [
    "train_features, test_features, train_target, test_target = train_test_split(df_features, df_target, test_size=0.3, random_state=21, shuffle=True)"
   ]
  },
  {
   "cell_type": "code",
   "execution_count": 23,
   "metadata": {},
   "outputs": [
    {
     "name": "stdout",
     "output_type": "stream",
     "text": [
      "Train target distribution:\n",
      "0    3119\n",
      "1     381\n",
      "Name: ins_bens_recd, dtype: int64\n",
      "0    0.891143\n",
      "1    0.108857\n",
      "Name: ins_bens_recd, dtype: float64\n",
      "\n",
      "Test target distribution:\n",
      "0    1317\n",
      "1     183\n",
      "Name: ins_bens_recd, dtype: int64\n",
      "0    0.878\n",
      "1    0.122\n",
      "Name: ins_bens_recd, dtype: float64\n"
     ]
    }
   ],
   "source": [
    "# Checking class distribution of the target variable\n",
    "print(\"Train target distribution:\")\n",
    "print(train_target.value_counts())\n",
    "print(train_target.value_counts(normalize=True))\n",
    "\n",
    "print(\"\\nTest target distribution:\")\n",
    "print(test_target.value_counts())\n",
    "print(test_target.value_counts(normalize=True))"
   ]
  },
  {
   "cell_type": "markdown",
   "metadata": {},
   "source": [
    "train_test_split provided a similar distribution for all possible targets.  The distribution of benefit received versus not is within 1% for both the training and test sets."
   ]
  },
  {
   "cell_type": "code",
   "execution_count": 24,
   "metadata": {},
   "outputs": [],
   "source": [
    "#scaled features option\n",
    "train_features_scaled = train_features.copy()\n",
    "train_features_scaled = transformer_mas.fit_transform(train_features)\n",
    "\n",
    "test_features_scaled = test_features.copy()\n",
    "test_features_scaled = transformer_mas.transform(test_features)"
   ]
  },
  {
   "cell_type": "code",
   "execution_count": 25,
   "metadata": {},
   "outputs": [],
   "source": [
    "for k in range(1, 11):\n",
    "    #orig\n",
    "    classifier = KNeighborsClassifier(n_neighbors = k)\n",
    "    classifier.fit(train_features, train_target)\n",
    "    preds = classifier.predict(test_features)\n",
    "    #scaled\n",
    "    classifier.fit(train_features_scaled, train_target)\n",
    "    scaled_preds = classifier.predict(test_features_scaled)"
   ]
  },
  {
   "cell_type": "code",
   "execution_count": 48,
   "metadata": {},
   "outputs": [],
   "source": [
    "def eval_classifier(y_true, y_pred):\n",
    "    \n",
    "    f1 = sklearn.metrics.f1_score(y_true, y_pred, average='micro')\n",
    "    print(f'F1: {f1:.2f}')\n",
    "    \n",
    "# if you have an issue with the following line, restart the kernel and run the notebook again\n",
    "    cm = sklearn.metrics.confusion_matrix(y_true, y_pred, normalize='all')\n",
    "    print('Normalized Confusion Matrix')\n",
    "    print(cm)"
   ]
  },
  {
   "cell_type": "code",
   "execution_count": 49,
   "metadata": {},
   "outputs": [
    {
     "name": "stdout",
     "output_type": "stream",
     "text": [
      "F1: 0.88\n",
      "Normalized Confusion Matrix\n",
      "[[0.878 0.   ]\n",
      " [0.12  0.002]]\n"
     ]
    }
   ],
   "source": [
    "eval_classifier(test_target, preds)"
   ]
  },
  {
   "cell_type": "code",
   "execution_count": 50,
   "metadata": {},
   "outputs": [
    {
     "name": "stdout",
     "output_type": "stream",
     "text": [
      "F1: 0.98\n",
      "Normalized Confusion Matrix\n",
      "[[0.878      0.        ]\n",
      " [0.02466667 0.09733333]]\n"
     ]
    }
   ],
   "source": [
    "eval_classifier(test_target, scaled_preds)"
   ]
  },
  {
   "cell_type": "markdown",
   "metadata": {},
   "source": [
    "While the classifier produces good predictions with the unscaled data (F1: 0.88), it produces very good predictions on the scaled data (F1: 0.98).  Let's check those scores against a random model."
   ]
  },
  {
   "cell_type": "code",
   "execution_count": 29,
   "metadata": {},
   "outputs": [],
   "source": [
    "# generating output of a random model\n",
    "\n",
    "def rnd_model_predict(P, size, seed=42):\n",
    "\n",
    "    rng = np.random.default_rng(seed=seed)\n",
    "    return rng.binomial(n=1, p=P, size=size)"
   ]
  },
  {
   "cell_type": "code",
   "execution_count": 30,
   "metadata": {},
   "outputs": [
    {
     "name": "stdout",
     "output_type": "stream",
     "text": [
      "The probability: 0.00\n",
      "F1: 0.89\n",
      "Normalized Confusion Matrix\n",
      "[[8.872e-01 0.000e+00 0.000e+00 0.000e+00 0.000e+00 0.000e+00]\n",
      " [8.460e-02 0.000e+00 0.000e+00 0.000e+00 0.000e+00 0.000e+00]\n",
      " [2.300e-02 0.000e+00 0.000e+00 0.000e+00 0.000e+00 0.000e+00]\n",
      " [3.600e-03 0.000e+00 0.000e+00 0.000e+00 0.000e+00 0.000e+00]\n",
      " [1.400e-03 0.000e+00 0.000e+00 0.000e+00 0.000e+00 0.000e+00]\n",
      " [2.000e-04 0.000e+00 0.000e+00 0.000e+00 0.000e+00 0.000e+00]]\n",
      "\n",
      "The probability: 0.15\n",
      "F1: 0.77\n",
      "Normalized Confusion Matrix\n",
      "[[7.592e-01 1.280e-01 0.000e+00 0.000e+00 0.000e+00 0.000e+00]\n",
      " [7.020e-02 1.440e-02 0.000e+00 0.000e+00 0.000e+00 0.000e+00]\n",
      " [2.040e-02 2.600e-03 0.000e+00 0.000e+00 0.000e+00 0.000e+00]\n",
      " [3.000e-03 6.000e-04 0.000e+00 0.000e+00 0.000e+00 0.000e+00]\n",
      " [1.200e-03 2.000e-04 0.000e+00 0.000e+00 0.000e+00 0.000e+00]\n",
      " [2.000e-04 0.000e+00 0.000e+00 0.000e+00 0.000e+00 0.000e+00]]\n",
      "\n",
      "The probability: 0.50\n",
      "F1: 0.50\n",
      "Normalized Confusion Matrix\n",
      "[[4.560e-01 4.312e-01 0.000e+00 0.000e+00 0.000e+00 0.000e+00]\n",
      " [3.820e-02 4.640e-02 0.000e+00 0.000e+00 0.000e+00 0.000e+00]\n",
      " [1.280e-02 1.020e-02 0.000e+00 0.000e+00 0.000e+00 0.000e+00]\n",
      " [1.400e-03 2.200e-03 0.000e+00 0.000e+00 0.000e+00 0.000e+00]\n",
      " [6.000e-04 8.000e-04 0.000e+00 0.000e+00 0.000e+00 0.000e+00]\n",
      " [0.000e+00 2.000e-04 0.000e+00 0.000e+00 0.000e+00 0.000e+00]]\n",
      "\n",
      "The probability: 1.00\n",
      "F1: 0.08\n",
      "Normalized Confusion Matrix\n",
      "[[0.000e+00 8.872e-01 0.000e+00 0.000e+00 0.000e+00 0.000e+00]\n",
      " [0.000e+00 8.460e-02 0.000e+00 0.000e+00 0.000e+00 0.000e+00]\n",
      " [0.000e+00 2.300e-02 0.000e+00 0.000e+00 0.000e+00 0.000e+00]\n",
      " [0.000e+00 3.600e-03 0.000e+00 0.000e+00 0.000e+00 0.000e+00]\n",
      " [0.000e+00 1.400e-03 0.000e+00 0.000e+00 0.000e+00 0.000e+00]\n",
      " [0.000e+00 2.000e-04 0.000e+00 0.000e+00 0.000e+00 0.000e+00]]\n",
      "\n"
     ]
    }
   ],
   "source": [
    "for P in [0, df['insurance_benefits'].mean(), 0.5, 1]:\n",
    "\n",
    "    print(f'The probability: {P:.2f}')\n",
    "    y_pred_rnd = rnd_model_predict(P, size=len(df), seed=42)\n",
    "        \n",
    "    eval_classifier(df['insurance_benefits'], y_pred_rnd)\n",
    "    \n",
    "    print()"
   ]
  },
  {
   "cell_type": "markdown",
   "metadata": {},
   "source": [
    "The random model tested on probability 0 achieved the best F1 score at 0.89, which is not surprising given the vast majority of the 5000 customers in the data set have never made a claim.  This is only slightly better than the F1 achieved with the unscaled data (0.88), further confirming that unscaled data lends more reliable predictions."
   ]
  },
  {
   "cell_type": "markdown",
   "metadata": {},
   "source": [
    "# Task 3. Regression (with Linear Regression)"
   ]
  },
  {
   "cell_type": "code",
   "execution_count": 27,
   "metadata": {},
   "outputs": [],
   "source": [
    "class MyLinearRegression:\n",
    "    \n",
    "    def __init__(self):\n",
    "        \n",
    "        self.weights = None\n",
    "    \n",
    "    def fit(self, X, y):\n",
    "        \n",
    "        # adding the unities\n",
    "        X2 = np.append(np.ones([len(X), 1]), X, axis=1)\n",
    "        self.weights = np.linalg.inv(X2.T @ X2) @ X2.T @ y\n",
    "\n",
    "    def predict(self, X):\n",
    "        \n",
    "        # adding the unities\n",
    "        X2 = np.append(np.ones([len(X), 1]), X, axis=1)\n",
    "        y_pred = X2 @ self.weights\n",
    "        \n",
    "        return y_pred"
   ]
  },
  {
   "cell_type": "code",
   "execution_count": 28,
   "metadata": {},
   "outputs": [],
   "source": [
    "def eval_regressor(y_true, y_pred):\n",
    "    \n",
    "    rmse = math.sqrt(sklearn.metrics.mean_squared_error(y_true, y_pred))\n",
    "    print(f'RMSE: {rmse:.2f}')\n",
    "    \n",
    "    r2_score = math.sqrt(sklearn.metrics.r2_score(y_true, y_pred))\n",
    "    print(f'R2: {r2_score:.2f}')    "
   ]
  },
  {
   "cell_type": "code",
   "execution_count": 29,
   "metadata": {},
   "outputs": [
    {
     "name": "stdout",
     "output_type": "stream",
     "text": [
      "[-9.43539012e-01  3.57495491e-02  1.64272726e-02 -2.60743659e-07\n",
      " -1.16902127e-02]\n",
      "RMSE: 0.34\n",
      "R2: 0.66\n"
     ]
    }
   ],
   "source": [
    "X = df[['age', 'gender', 'income', 'family_members']].to_numpy()\n",
    "y = df['insurance_benefits'].to_numpy()\n",
    "\n",
    "X_train, X_test, y_train, y_test = train_test_split(X, y, test_size=0.3, random_state=12345)\n",
    "\n",
    "lr = MyLinearRegression()\n",
    "\n",
    "lr.fit(X_train, y_train)\n",
    "print(lr.weights)\n",
    "\n",
    "y_test_pred = lr.predict(X_test)\n",
    "eval_regressor(y_test, y_test_pred)"
   ]
  },
  {
   "cell_type": "code",
   "execution_count": 30,
   "metadata": {},
   "outputs": [],
   "source": [
    "# scaling new data split\n",
    "X_train_scaled = X_train.copy()\n",
    "X_train_scaled = transformer_mas.fit_transform(X_train)\n",
    "\n",
    "X_test_scaled = X_test.copy()\n",
    "X_test_scaled = transformer_mas.transform(X_test)"
   ]
  },
  {
   "cell_type": "code",
   "execution_count": 31,
   "metadata": {},
   "outputs": [
    {
     "name": "stdout",
     "output_type": "stream",
     "text": [
      "[-0.94353901  2.32372069  0.01642727 -0.02059875 -0.07014128]\n",
      "RMSE: 0.34\n",
      "R2: 0.66\n"
     ]
    }
   ],
   "source": [
    "lr = MyLinearRegression()\n",
    "\n",
    "lr.fit(X_train_scaled, y_train)\n",
    "print(lr.weights)\n",
    "\n",
    "y_test_pred = lr.predict(X_test_scaled)\n",
    "eval_regressor(y_test, y_test_pred)"
   ]
  },
  {
   "cell_type": "markdown",
   "metadata": {},
   "source": [
    "Though the specific output differs, the RMSE metric and R2 remain the same with Linear Regression whether the data is unscaled or scaled.  In both cases, the R2 indicates a strong but realistic positive correlation between real and predicted values.  The RMSE is reasonably good for a first attempt given we are making binary predictions, and it is significantly better than random guessing."
   ]
  },
  {
   "cell_type": "markdown",
   "metadata": {},
   "source": [
    "# Task 4. Obfuscating Data"
   ]
  },
  {
   "cell_type": "code",
   "execution_count": 32,
   "metadata": {},
   "outputs": [],
   "source": [
    "personal_info_column_list = ['gender', 'age', 'income', 'family_members']\n",
    "df_pn = df[personal_info_column_list]"
   ]
  },
  {
   "cell_type": "code",
   "execution_count": 33,
   "metadata": {},
   "outputs": [
    {
     "data": {
      "text/plain": [
       "5000"
      ]
     },
     "execution_count": 33,
     "metadata": {},
     "output_type": "execute_result"
    }
   ],
   "source": [
    "X = df_pn.to_numpy()\n",
    "len(X)"
   ]
  },
  {
   "cell_type": "markdown",
   "metadata": {},
   "source": [
    "Generating a random matrix $P$."
   ]
  },
  {
   "cell_type": "code",
   "execution_count": 34,
   "metadata": {},
   "outputs": [],
   "source": [
    "rng = np.random.default_rng(seed=42)\n",
    "P = rng.random(size=(X.shape[1], X.shape[1]))"
   ]
  },
  {
   "cell_type": "markdown",
   "metadata": {},
   "source": [
    "Checking the matrix $P$ is invertible."
   ]
  },
  {
   "cell_type": "code",
   "execution_count": 35,
   "metadata": {},
   "outputs": [
    {
     "name": "stdout",
     "output_type": "stream",
     "text": [
      "The matrix is invertible.\n"
     ]
    }
   ],
   "source": [
    "det_P = np.linalg.det(P)\n",
    "\n",
    "if det_P != 0:\n",
    "    print('The matrix is invertible.')\n",
    "    \n",
    "else:\n",
    "    print('The matrix is not invertible.')"
   ]
  },
  {
   "cell_type": "code",
   "execution_count": 49,
   "metadata": {},
   "outputs": [
    {
     "name": "stdout",
     "output_type": "stream",
     "text": [
      "It is possible to recover the original data.\n"
     ]
    }
   ],
   "source": [
    "Xdot = X.dot(P)\n",
    "X_res = np.linalg.solve(P.T, Xdot.T).T\n",
    "\n",
    "if len(np.isin(X, X_res)) == len(X):\n",
    "    print('It is possible to recover the original data.')\n",
    "else:\n",
    "    print('It is not possible to fully recover the original data.')"
   ]
  },
  {
   "cell_type": "code",
   "execution_count": 37,
   "metadata": {},
   "outputs": [
    {
     "name": "stdout",
     "output_type": "stream",
     "text": [
      "Original Data:\n",
      "     0     1        2    3\n",
      "0  1.0  41.0  49600.0  1.0\n",
      "1  0.0  46.0  38000.0  1.0\n",
      "2  0.0  29.0  21000.0  0.0\n",
      "Data Type: float64\n",
      "\n",
      "Transformed Data:\n",
      "             0             1             2             3\n",
      "0  6359.715273  22380.404676  18424.090742  46000.696690\n",
      "1  4873.294065  17160.367030  14125.780761  35253.455773\n",
      "2  2693.117429   9486.397744   7808.831560  19484.860631\n",
      "Data Type: float64\n",
      "\n",
      "Reversed Data:\n",
      "              0     1        2             3\n",
      "0  1.000000e+00  41.0  49600.0  1.000000e+00\n",
      "1 -2.482685e-13  46.0  38000.0  1.000000e+00\n",
      "2 -1.241343e-14  29.0  21000.0  1.077078e-12\n",
      "Data Type: float64\n"
     ]
    }
   ],
   "source": [
    "print('Original Data:')\n",
    "print(pd.DataFrame(X[:3, :]))\n",
    "print('Data Type:', X.dtype)\n",
    "print('\\nTransformed Data:')\n",
    "print(pd.DataFrame(Xdot[:3, :]))\n",
    "print('Data Type:', Xdot.dtype)\n",
    "print('\\nReversed Data:')\n",
    "print(pd.DataFrame(X_res[:3, :]))\n",
    "print('Data Type:', X_res.dtype)"
   ]
  },
  {
   "cell_type": "markdown",
   "metadata": {},
   "source": [
    "There are some extremely minor differences in the data due to rounding errors.  Float64 has inherent limits on its precision.  However, it runs calculations much quicker than other libraries.  The code below demonstrates that these differences are inconsequential for this real-world application."
   ]
  },
  {
   "cell_type": "code",
   "execution_count": 38,
   "metadata": {},
   "outputs": [
    {
     "name": "stdout",
     "output_type": "stream",
     "text": [
      "Original and restored data are within tolerance.\n"
     ]
    }
   ],
   "source": [
    "if np.allclose(X, X_res, atol=1e-10):\n",
    "    print('Original and restored data are within tolerance.')\n",
    "    \n",
    "else:\n",
    "    print('Discrepancies detected.')"
   ]
  },
  {
   "cell_type": "markdown",
   "metadata": {},
   "source": [
    "## Proof That Data Obfuscation Can Work with LR"
   ]
  },
  {
   "cell_type": "markdown",
   "metadata": {},
   "source": [
    "$w_P$ is the linear transformation of $w$ by a matrix of random values ($P$).  Given the formula for $w_P$:\n",
    "$$w_P = [(XP)^T XP]^{-1} (XP)^T y$$\n",
    "Due to distributivity:\n",
    "$$(XP)^T = P^TX^T$$\n",
    "Which when substituted into the original formula gives:\n",
    "$$w_P = [P^TX^T XP]^{-1} P^TX^T y$$\n",
    "Then, due to reversibility of the transpose of a product of matrices, we can isolate $P$ so that \n",
    "$$w_P = P^{-1}[(X^T X)^{-1} X^T]y$$\n",
    "Which can be simplified further as $$w_P = P^{-1}w$$ \n",
    "This inversion is needed to transform the data back to its initial form before P transformed the data."
   ]
  },
  {
   "cell_type": "markdown",
   "metadata": {},
   "source": [
    "**Analytical proof**"
   ]
  },
  {
   "cell_type": "markdown",
   "metadata": {},
   "source": [
    "Because of the nature of linear transformation and specifically the reversivity of the transpose of a product of matrices, the predicted values will merely be the values of $w$ transformed by an invertible matrix P.  While $w_P \\neq w$: $$wP = P^{-1}w$$  This reversibility ensures the final results are unaffected.\n",
    "\n",
    "RMSE is based on the magnitude of errors, and this magnitude will have the same error distribution when a consistent linear transformation is applied.  Thus, RMSE will be the same for both $w$ or $w_P$ because transformations by P are reversible.  Obfuscation of the data, therefore, will not affect the accuracy of the model because it affects neither the distribution of errors nor the final predictions.\n",
    "\n",
    "To further illustrate this:\n",
    "$$\\hat{y} = X'w_P$$\n",
    "When we substitute in the formula for $w_P$, we have:\n",
    "$$\\hat{y} = X'[(XP)^T XP]^{-1} (XP)^T y$$\n",
    "Distributivity of the transpose means this could also be written as:\n",
    "$$\\hat{y} = X'[X^T P^T XP]^{-1} X^T P^T y$$\n",
    "P can now be isolated based on the associative property of multiplication, giving us:\n",
    "$$\\hat{y} = X'P(X^T X)^{-1} X^T y$$\n",
    "$w = (X^T X)^{-1} X^T y$  Therefore, this can be further simplified as:\n",
    "$$\\hat{y} = X'Pw$$\n",
    "Given $X' = XP$ and $ w_P = P^{-1}w$, so we can substitute them into the formula instead:\n",
    "$$\\hat{y} = XPP^{-1}w$$\n",
    "$PP^{-1}$ in this context forms an identity matrix that can be cancelled out as multiplying by an identity matrix will not change the result of the equation.  With this in mind, we have:\n",
    "$$\\hat{y} = Xw = Xw_P$$\n",
    "Therefore, predicted values will be identical regardless of the weight applied to obfuscate the data as obfuscation can be reversed and thus affects intermediate computation but not final results."
   ]
  },
  {
   "cell_type": "markdown",
   "metadata": {},
   "source": [
    "## Testing Linear Regression With Data Obfuscation"
   ]
  },
  {
   "cell_type": "code",
   "execution_count": 39,
   "metadata": {},
   "outputs": [],
   "source": [
    "rng = np.random.default_rng(seed=21)\n",
    "P2 = rng.random(size=(X.shape[1], X.shape[1]))"
   ]
  },
  {
   "cell_type": "code",
   "execution_count": 40,
   "metadata": {
    "scrolled": true
   },
   "outputs": [
    {
     "name": "stdout",
     "output_type": "stream",
     "text": [
      "The matrix is invertible.\n"
     ]
    }
   ],
   "source": [
    "det_P2 = np.linalg.det(P2)\n",
    "\n",
    "if det_P2 != 0:\n",
    "    print('The matrix is invertible.')\n",
    "    \n",
    "else:\n",
    "    print('The matrix is not invertible.')"
   ]
  },
  {
   "cell_type": "code",
   "execution_count": 41,
   "metadata": {},
   "outputs": [
    {
     "name": "stdout",
     "output_type": "stream",
     "text": [
      "RMSE: 0.34\n",
      "R2: 0.66\n"
     ]
    }
   ],
   "source": [
    "X_train2, X_test2, y_train2, y_test2 = train_test_split(X, y, test_size=0.3, random_state=12345)\n",
    "\n",
    "lr2 = MyLinearRegression()\n",
    "\n",
    "lr2.fit(X_train2, y_train2)\n",
    "\n",
    "y_test_pred2 = lr2.predict(X_test2)\n",
    "eval_regressor(y_test2, y_test_pred2)"
   ]
  },
  {
   "cell_type": "code",
   "execution_count": 42,
   "metadata": {},
   "outputs": [
    {
     "name": "stdout",
     "output_type": "stream",
     "text": [
      "RMSE: 0.34\n",
      "R2: 0.66\n"
     ]
    }
   ],
   "source": [
    "Xdot2_train = X_train2.dot(P2)\n",
    "Xdot2_test = X_test2.dot(P2)\n",
    "\n",
    "lr_obf = MyLinearRegression()\n",
    "\n",
    "lr_obf.fit(Xdot2_train, y_train)\n",
    "\n",
    "y_test_pred_obf = lr_obf.predict(Xdot2_test)\n",
    "eval_regressor(y_test2, y_test_pred_obf)"
   ]
  },
  {
   "cell_type": "markdown",
   "metadata": {},
   "source": [
    "The obfuscation does not impact the quality of the predictions.  Both RMSE and R2 are the same when run on either dataset."
   ]
  },
  {
   "cell_type": "markdown",
   "metadata": {},
   "source": [
    "# Conclusions"
   ]
  },
  {
   "cell_type": "markdown",
   "metadata": {},
   "source": [
    "This project explored applications of machine learning and linear algebra to solve real-world problems using data from the Sure Tomorrow insurance company.  In task 1, I identified customers with similar demographics using Euclidean and Manhattan distances and the k-Nearest Neighbors algorithm.  KNN is practical in this context, but output varies based on the choses distance metric and whether or not data is scaled.  Therefore, the use of a KNN algorithm requires careful selection of its conditions.  Next, I predicted whether or not a given customer would receive an insurance benefit.  The kNN classifier outperformed the dummy model with an F1 score of 0.88 on unscaled data and 0.95 on scaled data, demonstrating the importance of feature engineering for enhancing classification performance.  In the case of predicting the number of insurance benefits a client is likely to receive using Linear Regression--the focus of task 3--RMSE results were consistent with both scaled and unscaled data.  The predictions, nonetheless, were realistic and significantly better than random guessing.  Finally, given the sensitivity of the data, I tested data obfuscation using matrix multiplication in task 4.  The random invertible matrix used in the task successfully obscured data without sacrificing the quality of the model's predictions.  Given the matrix only transformed the weight vector of the data, RMSE and R2 were the same in runs of the model with both obfuscated and original data.  Thus, obfuscation of data via matrix multiplication allows for client privacy and model integrity."
   ]
  }
 ],
 "metadata": {
  "ExecuteTimeLog": [
   {
    "duration": 2753,
    "start_time": "2024-11-28T19:30:29.100Z"
   },
   {
    "duration": 13,
    "start_time": "2024-11-28T19:30:34.021Z"
   },
   {
    "duration": 4,
    "start_time": "2024-11-28T19:30:37.673Z"
   },
   {
    "duration": 10,
    "start_time": "2024-11-28T19:30:47.404Z"
   },
   {
    "duration": 281,
    "start_time": "2024-11-28T19:31:33.373Z"
   },
   {
    "duration": 14,
    "start_time": "2024-11-28T19:32:17.333Z"
   },
   {
    "duration": 14,
    "start_time": "2024-11-28T19:32:25.401Z"
   },
   {
    "duration": 261,
    "start_time": "2024-11-28T19:32:32.088Z"
   },
   {
    "duration": 149,
    "start_time": "2024-11-28T19:32:51.375Z"
   },
   {
    "duration": 5,
    "start_time": "2024-11-28T19:33:16.624Z"
   },
   {
    "duration": 8,
    "start_time": "2024-11-28T19:33:31.270Z"
   },
   {
    "duration": 3,
    "start_time": "2024-11-28T19:33:39.525Z"
   },
   {
    "duration": 16,
    "start_time": "2024-11-28T19:33:41.153Z"
   },
   {
    "duration": 4,
    "start_time": "2024-11-28T19:33:58.054Z"
   },
   {
    "duration": 7,
    "start_time": "2024-11-28T19:34:00.046Z"
   },
   {
    "duration": 4,
    "start_time": "2024-11-28T19:34:02.917Z"
   },
   {
    "duration": 13,
    "start_time": "2024-11-28T19:34:03.777Z"
   },
   {
    "duration": 10,
    "start_time": "2024-11-28T19:34:05.864Z"
   },
   {
    "duration": 3,
    "start_time": "2024-11-28T19:34:14.722Z"
   },
   {
    "duration": 8,
    "start_time": "2024-11-28T19:34:18.335Z"
   },
   {
    "duration": 17,
    "start_time": "2024-11-28T19:34:36.121Z"
   },
   {
    "duration": 3,
    "start_time": "2024-11-28T20:32:20.144Z"
   },
   {
    "duration": 4,
    "start_time": "2024-11-28T20:34:12.029Z"
   },
   {
    "duration": 3,
    "start_time": "2024-11-28T20:44:05.544Z"
   },
   {
    "duration": 3,
    "start_time": "2024-11-28T20:49:01.339Z"
   },
   {
    "duration": 3,
    "start_time": "2024-11-28T20:54:37.447Z"
   },
   {
    "duration": 9,
    "start_time": "2024-11-28T20:54:51.739Z"
   },
   {
    "duration": 9,
    "start_time": "2024-11-28T20:54:53.772Z"
   },
   {
    "duration": 15,
    "start_time": "2024-11-28T20:59:26.690Z"
   },
   {
    "duration": 15,
    "start_time": "2024-11-28T20:59:33.157Z"
   },
   {
    "duration": 56,
    "start_time": "2024-11-28T20:59:49.268Z"
   },
   {
    "duration": 18,
    "start_time": "2024-11-28T21:03:15.817Z"
   },
   {
    "duration": 14,
    "start_time": "2024-11-28T21:03:34.324Z"
   },
   {
    "duration": 19,
    "start_time": "2024-11-28T21:03:40.032Z"
   },
   {
    "duration": 2719,
    "start_time": "2024-11-29T03:13:51.412Z"
   },
   {
    "duration": 12,
    "start_time": "2024-11-29T03:13:54.134Z"
   },
   {
    "duration": 3,
    "start_time": "2024-11-29T03:13:54.147Z"
   },
   {
    "duration": 10,
    "start_time": "2024-11-29T03:13:54.152Z"
   },
   {
    "duration": 9,
    "start_time": "2024-11-29T03:13:54.165Z"
   },
   {
    "duration": 3,
    "start_time": "2024-11-29T03:13:54.176Z"
   },
   {
    "duration": 7,
    "start_time": "2024-11-29T03:13:54.181Z"
   },
   {
    "duration": 16,
    "start_time": "2024-11-29T03:13:54.190Z"
   },
   {
    "duration": 2662,
    "start_time": "2024-11-29T03:13:54.209Z"
   },
   {
    "duration": 5,
    "start_time": "2024-11-29T03:13:56.873Z"
   },
   {
    "duration": 4,
    "start_time": "2024-11-29T03:13:56.880Z"
   },
   {
    "duration": 10,
    "start_time": "2024-11-29T03:14:26.585Z"
   },
   {
    "duration": 9,
    "start_time": "2024-11-29T03:14:29.455Z"
   },
   {
    "duration": 7,
    "start_time": "2024-11-29T03:14:43.630Z"
   },
   {
    "duration": 8,
    "start_time": "2024-11-29T03:14:52.119Z"
   },
   {
    "duration": 5,
    "start_time": "2024-11-29T03:15:48.731Z"
   },
   {
    "duration": 10,
    "start_time": "2024-11-29T03:15:55.629Z"
   },
   {
    "duration": 7,
    "start_time": "2024-11-29T03:15:59.838Z"
   },
   {
    "duration": 7,
    "start_time": "2024-11-29T03:16:03.562Z"
   },
   {
    "duration": 8,
    "start_time": "2024-11-29T03:16:27.851Z"
   },
   {
    "duration": 8,
    "start_time": "2024-11-29T03:16:31.511Z"
   },
   {
    "duration": 11,
    "start_time": "2024-11-29T03:20:53.869Z"
   },
   {
    "duration": 3,
    "start_time": "2024-11-29T03:21:20.475Z"
   },
   {
    "duration": 697,
    "start_time": "2024-11-29T03:22:29.485Z"
   },
   {
    "duration": 10,
    "start_time": "2024-11-29T03:22:30.507Z"
   },
   {
    "duration": 18,
    "start_time": "2024-11-29T03:22:43.232Z"
   },
   {
    "duration": 11,
    "start_time": "2024-11-29T03:23:14.900Z"
   },
   {
    "duration": 17,
    "start_time": "2024-11-29T03:23:22.762Z"
   },
   {
    "duration": 18,
    "start_time": "2024-11-29T03:23:39.107Z"
   },
   {
    "duration": 16,
    "start_time": "2024-11-29T03:24:46.024Z"
   },
   {
    "duration": 10,
    "start_time": "2024-11-29T03:25:01.371Z"
   },
   {
    "duration": 7,
    "start_time": "2024-11-29T03:25:06.313Z"
   },
   {
    "duration": 4,
    "start_time": "2024-11-29T04:58:56.031Z"
   },
   {
    "duration": 3,
    "start_time": "2024-11-29T04:59:52.915Z"
   },
   {
    "duration": 4,
    "start_time": "2024-11-29T05:04:21.977Z"
   },
   {
    "duration": 4,
    "start_time": "2024-11-29T05:04:25.816Z"
   },
   {
    "duration": 132,
    "start_time": "2024-11-29T05:06:35.919Z"
   },
   {
    "duration": 3,
    "start_time": "2024-11-29T05:07:01.461Z"
   },
   {
    "duration": 4,
    "start_time": "2024-11-29T05:07:42.354Z"
   },
   {
    "duration": 23,
    "start_time": "2024-11-29T05:10:50.250Z"
   },
   {
    "duration": 4,
    "start_time": "2024-11-29T05:11:07.381Z"
   },
   {
    "duration": 23,
    "start_time": "2024-11-29T05:11:11.448Z"
   },
   {
    "duration": 4,
    "start_time": "2024-11-29T05:11:53.531Z"
   },
   {
    "duration": 18,
    "start_time": "2024-11-29T05:12:00.450Z"
   },
   {
    "duration": 18,
    "start_time": "2024-11-29T05:12:55.709Z"
   },
   {
    "duration": 15,
    "start_time": "2024-11-29T05:16:20.097Z"
   },
   {
    "duration": 24,
    "start_time": "2024-11-29T05:16:30.247Z"
   },
   {
    "duration": 133,
    "start_time": "2024-11-29T05:16:48.446Z"
   },
   {
    "duration": 33,
    "start_time": "2024-11-29T05:17:54.682Z"
   },
   {
    "duration": 18,
    "start_time": "2024-11-29T05:18:38.171Z"
   },
   {
    "duration": 4,
    "start_time": "2024-11-29T05:22:11.653Z"
   },
   {
    "duration": 3,
    "start_time": "2024-11-29T05:22:16.163Z"
   },
   {
    "duration": 20,
    "start_time": "2024-11-29T05:22:19.336Z"
   },
   {
    "duration": 57,
    "start_time": "2024-11-29T05:22:25.550Z"
   },
   {
    "duration": 3,
    "start_time": "2024-11-29T05:23:25.212Z"
   },
   {
    "duration": 6,
    "start_time": "2024-11-29T05:26:16.714Z"
   },
   {
    "duration": 16,
    "start_time": "2024-11-29T05:27:36.745Z"
   },
   {
    "duration": 19,
    "start_time": "2024-11-29T05:28:25.061Z"
   },
   {
    "duration": 32,
    "start_time": "2024-11-29T05:28:28.127Z"
   },
   {
    "duration": 19,
    "start_time": "2024-11-29T05:29:07.241Z"
   },
   {
    "duration": 35,
    "start_time": "2024-11-29T05:29:12.227Z"
   },
   {
    "duration": 4,
    "start_time": "2024-11-29T05:29:24.671Z"
   },
   {
    "duration": 8,
    "start_time": "2024-11-29T05:29:24.677Z"
   },
   {
    "duration": 3,
    "start_time": "2024-11-29T05:29:24.687Z"
   },
   {
    "duration": 8,
    "start_time": "2024-11-29T05:29:24.692Z"
   },
   {
    "duration": 8,
    "start_time": "2024-11-29T05:29:24.702Z"
   },
   {
    "duration": 3,
    "start_time": "2024-11-29T05:29:24.712Z"
   },
   {
    "duration": 8,
    "start_time": "2024-11-29T05:29:24.716Z"
   },
   {
    "duration": 30,
    "start_time": "2024-11-29T05:29:24.725Z"
   },
   {
    "duration": 2690,
    "start_time": "2024-11-29T05:29:24.757Z"
   },
   {
    "duration": 3,
    "start_time": "2024-11-29T05:29:27.449Z"
   },
   {
    "duration": 6,
    "start_time": "2024-11-29T05:29:27.454Z"
   },
   {
    "duration": 11,
    "start_time": "2024-11-29T05:29:27.462Z"
   },
   {
    "duration": 15,
    "start_time": "2024-11-29T05:29:27.475Z"
   },
   {
    "duration": 3,
    "start_time": "2024-11-29T05:29:27.493Z"
   },
   {
    "duration": 47,
    "start_time": "2024-11-29T05:29:27.497Z"
   },
   {
    "duration": 33,
    "start_time": "2024-11-29T05:29:27.546Z"
   },
   {
    "duration": 2,
    "start_time": "2024-11-29T05:30:35.089Z"
   },
   {
    "duration": 19,
    "start_time": "2024-11-29T05:30:36.395Z"
   },
   {
    "duration": 44,
    "start_time": "2024-11-29T05:30:41.052Z"
   },
   {
    "duration": 19,
    "start_time": "2024-11-29T05:30:56.758Z"
   },
   {
    "duration": 35,
    "start_time": "2024-11-29T05:31:03.403Z"
   },
   {
    "duration": 19,
    "start_time": "2024-11-29T05:31:49.364Z"
   },
   {
    "duration": 33,
    "start_time": "2024-11-29T05:31:52.059Z"
   },
   {
    "duration": 3,
    "start_time": "2024-11-29T05:32:13.691Z"
   },
   {
    "duration": 21,
    "start_time": "2024-11-29T05:32:14.492Z"
   },
   {
    "duration": 32,
    "start_time": "2024-11-29T05:32:15.975Z"
   },
   {
    "duration": 18,
    "start_time": "2024-11-29T05:32:42.440Z"
   },
   {
    "duration": 3,
    "start_time": "2024-11-29T05:32:48.860Z"
   },
   {
    "duration": 18,
    "start_time": "2024-11-29T05:32:49.458Z"
   },
   {
    "duration": 32,
    "start_time": "2024-11-29T05:32:50.950Z"
   },
   {
    "duration": 2,
    "start_time": "2024-11-29T05:33:12.560Z"
   },
   {
    "duration": 20,
    "start_time": "2024-11-29T05:33:13.576Z"
   },
   {
    "duration": 36,
    "start_time": "2024-11-29T05:33:14.615Z"
   },
   {
    "duration": 3,
    "start_time": "2024-11-29T05:33:49.993Z"
   },
   {
    "duration": 18,
    "start_time": "2024-11-29T05:33:50.669Z"
   },
   {
    "duration": 33,
    "start_time": "2024-11-29T05:33:52.459Z"
   },
   {
    "duration": 3,
    "start_time": "2024-11-29T05:38:27.472Z"
   },
   {
    "duration": 18,
    "start_time": "2024-11-29T05:38:28.524Z"
   },
   {
    "duration": 33,
    "start_time": "2024-11-29T05:38:30.591Z"
   },
   {
    "duration": 2,
    "start_time": "2024-11-29T05:46:12.052Z"
   },
   {
    "duration": 18,
    "start_time": "2024-11-29T05:46:12.751Z"
   },
   {
    "duration": 33,
    "start_time": "2024-11-29T05:46:14.373Z"
   },
   {
    "duration": 3,
    "start_time": "2024-11-29T06:00:39.733Z"
   },
   {
    "duration": 19,
    "start_time": "2024-11-29T06:00:40.379Z"
   },
   {
    "duration": 34,
    "start_time": "2024-11-29T06:00:42.163Z"
   },
   {
    "duration": 3,
    "start_time": "2024-11-29T06:01:18.682Z"
   },
   {
    "duration": 19,
    "start_time": "2024-11-29T06:01:19.665Z"
   },
   {
    "duration": 33,
    "start_time": "2024-11-29T06:01:20.713Z"
   },
   {
    "duration": 3,
    "start_time": "2024-11-29T06:05:01.497Z"
   },
   {
    "duration": 19,
    "start_time": "2024-11-29T06:05:02.812Z"
   },
   {
    "duration": 33,
    "start_time": "2024-11-29T06:05:04.152Z"
   },
   {
    "duration": 155,
    "start_time": "2024-11-29T20:27:18.339Z"
   },
   {
    "duration": 2700,
    "start_time": "2024-11-29T20:27:24.849Z"
   },
   {
    "duration": 10,
    "start_time": "2024-11-29T20:27:27.551Z"
   },
   {
    "duration": 3,
    "start_time": "2024-11-29T20:27:27.563Z"
   },
   {
    "duration": 9,
    "start_time": "2024-11-29T20:27:27.568Z"
   },
   {
    "duration": 8,
    "start_time": "2024-11-29T20:27:27.579Z"
   },
   {
    "duration": 3,
    "start_time": "2024-11-29T20:27:27.589Z"
   },
   {
    "duration": 35,
    "start_time": "2024-11-29T20:27:27.594Z"
   },
   {
    "duration": 18,
    "start_time": "2024-11-29T20:27:27.631Z"
   },
   {
    "duration": 2563,
    "start_time": "2024-11-29T20:27:27.650Z"
   },
   {
    "duration": 3,
    "start_time": "2024-11-29T20:27:30.216Z"
   },
   {
    "duration": 3,
    "start_time": "2024-11-29T20:27:30.221Z"
   },
   {
    "duration": 11,
    "start_time": "2024-11-29T20:27:30.227Z"
   },
   {
    "duration": 14,
    "start_time": "2024-11-29T20:27:30.239Z"
   },
   {
    "duration": 3,
    "start_time": "2024-11-29T20:27:30.254Z"
   },
   {
    "duration": 17,
    "start_time": "2024-11-29T20:27:30.258Z"
   },
   {
    "duration": 56,
    "start_time": "2024-11-29T20:27:30.277Z"
   },
   {
    "duration": 3,
    "start_time": "2024-11-29T20:30:58.829Z"
   },
   {
    "duration": 2,
    "start_time": "2024-11-29T20:31:30.854Z"
   },
   {
    "duration": 87,
    "start_time": "2024-11-29T20:41:04.151Z"
   },
   {
    "duration": 15,
    "start_time": "2024-11-29T20:41:53.247Z"
   },
   {
    "duration": 3,
    "start_time": "2024-11-29T20:42:03.060Z"
   },
   {
    "duration": 6,
    "start_time": "2024-11-29T20:42:12.129Z"
   },
   {
    "duration": 10,
    "start_time": "2024-11-29T20:42:42.617Z"
   },
   {
    "duration": 142,
    "start_time": "2024-11-29T20:43:39.002Z"
   },
   {
    "duration": 131,
    "start_time": "2024-11-29T20:43:49.107Z"
   },
   {
    "duration": 2933,
    "start_time": "2024-11-29T21:56:13.728Z"
   },
   {
    "duration": 14,
    "start_time": "2024-11-29T21:56:16.663Z"
   },
   {
    "duration": 4,
    "start_time": "2024-11-29T21:56:16.678Z"
   },
   {
    "duration": 12,
    "start_time": "2024-11-29T21:56:16.683Z"
   },
   {
    "duration": 10,
    "start_time": "2024-11-29T21:56:16.704Z"
   },
   {
    "duration": 4,
    "start_time": "2024-11-29T21:56:16.716Z"
   },
   {
    "duration": 8,
    "start_time": "2024-11-29T21:56:16.721Z"
   },
   {
    "duration": 16,
    "start_time": "2024-11-29T21:56:16.731Z"
   },
   {
    "duration": 2628,
    "start_time": "2024-11-29T21:56:16.749Z"
   },
   {
    "duration": 5,
    "start_time": "2024-11-29T21:56:19.379Z"
   },
   {
    "duration": 4,
    "start_time": "2024-11-29T21:56:19.385Z"
   },
   {
    "duration": 10,
    "start_time": "2024-11-29T21:56:19.391Z"
   },
   {
    "duration": 15,
    "start_time": "2024-11-29T21:56:19.402Z"
   },
   {
    "duration": 3,
    "start_time": "2024-11-29T21:56:19.419Z"
   },
   {
    "duration": 26,
    "start_time": "2024-11-29T21:56:19.424Z"
   },
   {
    "duration": 56,
    "start_time": "2024-11-29T21:56:19.452Z"
   },
   {
    "duration": 4,
    "start_time": "2024-11-29T21:56:19.510Z"
   },
   {
    "duration": 295,
    "start_time": "2024-11-29T21:56:26.359Z"
   },
   {
    "duration": 3,
    "start_time": "2024-11-29T21:58:50.594Z"
   },
   {
    "duration": 6,
    "start_time": "2024-11-29T21:59:45.653Z"
   },
   {
    "duration": 5,
    "start_time": "2024-11-29T22:00:07.221Z"
   },
   {
    "duration": 4,
    "start_time": "2024-11-29T22:00:28.351Z"
   },
   {
    "duration": 6,
    "start_time": "2024-11-29T22:00:31.222Z"
   },
   {
    "duration": 15,
    "start_time": "2024-11-29T22:01:23.667Z"
   },
   {
    "duration": 16,
    "start_time": "2024-11-29T22:03:34.138Z"
   },
   {
    "duration": 14,
    "start_time": "2024-11-29T22:03:59.586Z"
   },
   {
    "duration": 18,
    "start_time": "2024-11-29T22:04:20.014Z"
   },
   {
    "duration": 349,
    "start_time": "2024-11-29T22:07:35.381Z"
   },
   {
    "duration": 11,
    "start_time": "2024-11-29T22:09:43.179Z"
   },
   {
    "duration": 8,
    "start_time": "2024-11-29T22:10:46.980Z"
   },
   {
    "duration": 47,
    "start_time": "2024-11-29T22:11:36.155Z"
   },
   {
    "duration": 33,
    "start_time": "2024-11-29T22:12:03.473Z"
   },
   {
    "duration": 16,
    "start_time": "2024-11-29T22:12:23.918Z"
   },
   {
    "duration": 48,
    "start_time": "2024-11-29T22:12:36.012Z"
   },
   {
    "duration": 478,
    "start_time": "2024-11-29T22:13:01.999Z"
   },
   {
    "duration": 46,
    "start_time": "2024-11-29T22:14:20.549Z"
   },
   {
    "duration": 37,
    "start_time": "2024-11-29T22:15:14.738Z"
   },
   {
    "duration": 16,
    "start_time": "2024-11-29T22:17:25.642Z"
   },
   {
    "duration": 8,
    "start_time": "2024-11-29T22:17:45.009Z"
   },
   {
    "duration": 31,
    "start_time": "2024-11-29T22:19:14.317Z"
   },
   {
    "duration": 23,
    "start_time": "2024-11-29T22:20:55.007Z"
   },
   {
    "duration": 3,
    "start_time": "2024-11-29T22:21:26.621Z"
   },
   {
    "duration": 3,
    "start_time": "2024-11-29T22:21:44.185Z"
   },
   {
    "duration": 5,
    "start_time": "2024-11-29T22:22:07.475Z"
   },
   {
    "duration": 5,
    "start_time": "2024-11-29T22:23:58.465Z"
   },
   {
    "duration": 6,
    "start_time": "2024-11-29T22:24:18.955Z"
   },
   {
    "duration": 216,
    "start_time": "2024-11-29T22:25:53.959Z"
   },
   {
    "duration": 15,
    "start_time": "2024-11-29T22:26:05.919Z"
   },
   {
    "duration": 51,
    "start_time": "2024-11-29T22:26:20.975Z"
   },
   {
    "duration": 60,
    "start_time": "2024-11-29T22:26:27.450Z"
   },
   {
    "duration": 6,
    "start_time": "2024-11-29T22:26:39.534Z"
   },
   {
    "duration": 6,
    "start_time": "2024-11-29T22:27:06.811Z"
   },
   {
    "duration": 5,
    "start_time": "2024-11-29T22:28:43.191Z"
   },
   {
    "duration": 7,
    "start_time": "2024-11-29T22:29:29.369Z"
   },
   {
    "duration": 3,
    "start_time": "2024-11-29T22:35:15.173Z"
   },
   {
    "duration": 1048,
    "start_time": "2024-11-29T22:39:01.525Z"
   },
   {
    "duration": 8,
    "start_time": "2024-11-29T22:39:02.576Z"
   },
   {
    "duration": 3,
    "start_time": "2024-11-29T22:39:02.586Z"
   },
   {
    "duration": 19,
    "start_time": "2024-11-29T22:39:02.591Z"
   },
   {
    "duration": 9,
    "start_time": "2024-11-29T22:39:02.613Z"
   },
   {
    "duration": 3,
    "start_time": "2024-11-29T22:39:02.624Z"
   },
   {
    "duration": 9,
    "start_time": "2024-11-29T22:39:02.629Z"
   },
   {
    "duration": 17,
    "start_time": "2024-11-29T22:39:02.639Z"
   },
   {
    "duration": 2680,
    "start_time": "2024-11-29T22:39:02.658Z"
   },
   {
    "duration": 3,
    "start_time": "2024-11-29T22:39:05.340Z"
   },
   {
    "duration": 4,
    "start_time": "2024-11-29T22:39:05.345Z"
   },
   {
    "duration": 10,
    "start_time": "2024-11-29T22:39:05.351Z"
   },
   {
    "duration": 15,
    "start_time": "2024-11-29T22:39:05.363Z"
   },
   {
    "duration": 2,
    "start_time": "2024-11-29T22:39:05.381Z"
   },
   {
    "duration": 28,
    "start_time": "2024-11-29T22:39:05.385Z"
   },
   {
    "duration": 32,
    "start_time": "2024-11-29T22:39:05.415Z"
   },
   {
    "duration": 4,
    "start_time": "2024-11-29T22:39:05.449Z"
   },
   {
    "duration": 4,
    "start_time": "2024-11-29T22:39:05.455Z"
   },
   {
    "duration": 6,
    "start_time": "2024-11-29T22:39:05.461Z"
   },
   {
    "duration": 4,
    "start_time": "2024-11-29T22:39:10.661Z"
   },
   {
    "duration": 334,
    "start_time": "2024-11-29T22:42:25.814Z"
   },
   {
    "duration": 18,
    "start_time": "2024-11-29T22:42:47.607Z"
   },
   {
    "duration": 17,
    "start_time": "2024-11-29T22:43:03.081Z"
   },
   {
    "duration": 781,
    "start_time": "2024-11-29T22:43:15.631Z"
   },
   {
    "duration": 6,
    "start_time": "2024-11-29T22:43:45.599Z"
   },
   {
    "duration": 8,
    "start_time": "2024-11-29T22:43:52.757Z"
   },
   {
    "duration": 6,
    "start_time": "2024-11-29T22:44:19.469Z"
   },
   {
    "duration": 13,
    "start_time": "2024-11-29T22:44:26.841Z"
   },
   {
    "duration": 11,
    "start_time": "2024-11-29T22:44:50.238Z"
   },
   {
    "duration": 18,
    "start_time": "2024-11-29T22:44:58.763Z"
   },
   {
    "duration": 3,
    "start_time": "2024-11-29T22:45:06.731Z"
   },
   {
    "duration": 11,
    "start_time": "2024-11-29T22:45:06.736Z"
   },
   {
    "duration": 3,
    "start_time": "2024-11-29T22:45:06.749Z"
   },
   {
    "duration": 7,
    "start_time": "2024-11-29T22:45:06.754Z"
   },
   {
    "duration": 7,
    "start_time": "2024-11-29T22:45:06.764Z"
   },
   {
    "duration": 3,
    "start_time": "2024-11-29T22:45:06.772Z"
   },
   {
    "duration": 7,
    "start_time": "2024-11-29T22:45:06.777Z"
   },
   {
    "duration": 29,
    "start_time": "2024-11-29T22:45:06.785Z"
   },
   {
    "duration": 2618,
    "start_time": "2024-11-29T22:45:06.815Z"
   },
   {
    "duration": 3,
    "start_time": "2024-11-29T22:45:09.435Z"
   },
   {
    "duration": 4,
    "start_time": "2024-11-29T22:45:09.440Z"
   },
   {
    "duration": 11,
    "start_time": "2024-11-29T22:45:16.683Z"
   },
   {
    "duration": 15,
    "start_time": "2024-11-29T22:45:18.201Z"
   },
   {
    "duration": 3,
    "start_time": "2024-11-29T22:45:23.329Z"
   },
   {
    "duration": 18,
    "start_time": "2024-11-29T22:45:24.579Z"
   },
   {
    "duration": 35,
    "start_time": "2024-11-29T22:45:27.396Z"
   },
   {
    "duration": 5,
    "start_time": "2024-11-29T22:48:10.913Z"
   },
   {
    "duration": 19,
    "start_time": "2024-11-29T22:48:19.089Z"
   },
   {
    "duration": 3,
    "start_time": "2024-11-29T22:48:36.059Z"
   },
   {
    "duration": 4,
    "start_time": "2024-11-29T22:49:47.530Z"
   },
   {
    "duration": 3,
    "start_time": "2024-11-29T22:54:19.455Z"
   },
   {
    "duration": 7,
    "start_time": "2024-11-29T22:57:47.018Z"
   },
   {
    "duration": 15,
    "start_time": "2024-11-29T22:57:59.509Z"
   },
   {
    "duration": 17,
    "start_time": "2024-11-29T22:58:51.488Z"
   },
   {
    "duration": 16,
    "start_time": "2024-11-29T22:59:07.441Z"
   },
   {
    "duration": 157,
    "start_time": "2024-11-29T23:44:25.811Z"
   },
   {
    "duration": 2694,
    "start_time": "2024-11-29T23:44:49.596Z"
   },
   {
    "duration": 10,
    "start_time": "2024-11-29T23:44:52.293Z"
   },
   {
    "duration": 3,
    "start_time": "2024-11-29T23:44:52.304Z"
   },
   {
    "duration": 10,
    "start_time": "2024-11-29T23:44:52.308Z"
   },
   {
    "duration": 18,
    "start_time": "2024-11-29T23:44:52.320Z"
   },
   {
    "duration": 3,
    "start_time": "2024-11-29T23:44:52.339Z"
   },
   {
    "duration": 8,
    "start_time": "2024-11-29T23:44:52.344Z"
   },
   {
    "duration": 15,
    "start_time": "2024-11-29T23:44:52.353Z"
   },
   {
    "duration": 2602,
    "start_time": "2024-11-29T23:44:52.370Z"
   },
   {
    "duration": 4,
    "start_time": "2024-11-29T23:44:54.975Z"
   },
   {
    "duration": 6,
    "start_time": "2024-11-29T23:44:54.981Z"
   },
   {
    "duration": 11,
    "start_time": "2024-11-29T23:44:54.991Z"
   },
   {
    "duration": 14,
    "start_time": "2024-11-29T23:44:55.005Z"
   },
   {
    "duration": 11,
    "start_time": "2024-11-29T23:44:55.021Z"
   },
   {
    "duration": 17,
    "start_time": "2024-11-29T23:44:55.034Z"
   },
   {
    "duration": 32,
    "start_time": "2024-11-29T23:44:55.052Z"
   },
   {
    "duration": 3,
    "start_time": "2024-11-29T23:44:55.086Z"
   },
   {
    "duration": 4,
    "start_time": "2024-11-29T23:44:55.091Z"
   },
   {
    "duration": 35,
    "start_time": "2024-11-29T23:44:55.096Z"
   },
   {
    "duration": 339,
    "start_time": "2024-11-29T23:44:58.110Z"
   },
   {
    "duration": 20,
    "start_time": "2024-11-29T23:46:07.431Z"
   },
   {
    "duration": 16,
    "start_time": "2024-11-29T23:46:36.889Z"
   },
   {
    "duration": 59,
    "start_time": "2024-11-29T23:46:49.803Z"
   },
   {
    "duration": 50,
    "start_time": "2024-11-29T23:47:05.184Z"
   },
   {
    "duration": 49,
    "start_time": "2024-11-29T23:49:07.476Z"
   },
   {
    "duration": 36,
    "start_time": "2024-11-29T23:50:10.836Z"
   },
   {
    "duration": 7,
    "start_time": "2024-11-29T23:56:03.333Z"
   },
   {
    "duration": 3,
    "start_time": "2024-11-29T23:57:40.058Z"
   },
   {
    "duration": 18,
    "start_time": "2024-11-30T00:11:43.178Z"
   },
   {
    "duration": 263,
    "start_time": "2024-11-30T00:12:36.668Z"
   },
   {
    "duration": 600,
    "start_time": "2024-11-30T00:14:23.632Z"
   },
   {
    "duration": 583,
    "start_time": "2024-11-30T00:14:50.734Z"
   },
   {
    "duration": 612,
    "start_time": "2024-11-30T00:15:17.830Z"
   },
   {
    "duration": 3,
    "start_time": "2024-11-30T00:16:47.330Z"
   },
   {
    "duration": 132,
    "start_time": "2024-11-30T00:17:18.990Z"
   },
   {
    "duration": 3,
    "start_time": "2024-11-30T00:19:14.132Z"
   },
   {
    "duration": 4,
    "start_time": "2024-11-30T00:19:22.837Z"
   },
   {
    "duration": 4,
    "start_time": "2024-11-30T00:19:53.216Z"
   },
   {
    "duration": 6,
    "start_time": "2024-11-30T00:20:17.665Z"
   },
   {
    "duration": 69,
    "start_time": "2024-11-30T00:20:25.428Z"
   },
   {
    "duration": 3,
    "start_time": "2024-11-30T00:20:47.397Z"
   },
   {
    "duration": 4,
    "start_time": "2024-11-30T00:20:58.759Z"
   },
   {
    "duration": 3,
    "start_time": "2024-11-30T00:21:06.359Z"
   },
   {
    "duration": 3,
    "start_time": "2024-11-30T00:21:11.601Z"
   },
   {
    "duration": 3,
    "start_time": "2024-11-30T00:22:10.864Z"
   },
   {
    "duration": 3,
    "start_time": "2024-11-30T00:22:31.321Z"
   },
   {
    "duration": 3,
    "start_time": "2024-11-30T00:26:14.150Z"
   },
   {
    "duration": 3,
    "start_time": "2024-11-30T00:26:46.505Z"
   },
   {
    "duration": 7,
    "start_time": "2024-11-30T00:27:47.404Z"
   },
   {
    "duration": 3,
    "start_time": "2024-11-30T00:27:49.059Z"
   },
   {
    "duration": 64,
    "start_time": "2024-11-30T00:32:30.656Z"
   },
   {
    "duration": 4,
    "start_time": "2024-11-30T00:33:17.327Z"
   },
   {
    "duration": 600,
    "start_time": "2024-11-30T00:34:19.697Z"
   },
   {
    "duration": 63,
    "start_time": "2024-11-30T00:35:47.757Z"
   },
   {
    "duration": 3,
    "start_time": "2024-11-30T00:38:36.290Z"
   },
   {
    "duration": 56,
    "start_time": "2024-11-30T00:38:39.067Z"
   },
   {
    "duration": 3,
    "start_time": "2024-11-30T00:39:30.834Z"
   },
   {
    "duration": 57,
    "start_time": "2024-11-30T00:39:33.768Z"
   },
   {
    "duration": 3,
    "start_time": "2024-11-30T00:47:54.676Z"
   },
   {
    "duration": 7,
    "start_time": "2024-11-30T00:47:55.534Z"
   },
   {
    "duration": 6,
    "start_time": "2024-11-30T00:50:06.695Z"
   },
   {
    "duration": 3,
    "start_time": "2024-11-30T00:53:36.898Z"
   },
   {
    "duration": 7,
    "start_time": "2024-11-30T00:53:40.135Z"
   },
   {
    "duration": 84,
    "start_time": "2024-11-30T00:54:42.361Z"
   },
   {
    "duration": 2702,
    "start_time": "2024-12-01T03:49:24.092Z"
   },
   {
    "duration": 13,
    "start_time": "2024-12-01T03:49:26.796Z"
   },
   {
    "duration": 3,
    "start_time": "2024-12-01T03:49:26.811Z"
   },
   {
    "duration": 11,
    "start_time": "2024-12-01T03:49:26.815Z"
   },
   {
    "duration": 9,
    "start_time": "2024-12-01T03:49:26.828Z"
   },
   {
    "duration": 3,
    "start_time": "2024-12-01T03:49:26.838Z"
   },
   {
    "duration": 28,
    "start_time": "2024-12-01T03:49:26.843Z"
   },
   {
    "duration": 20,
    "start_time": "2024-12-01T03:49:26.872Z"
   },
   {
    "duration": 2593,
    "start_time": "2024-12-01T03:49:26.893Z"
   },
   {
    "duration": 2,
    "start_time": "2024-12-01T03:49:29.488Z"
   },
   {
    "duration": 4,
    "start_time": "2024-12-01T03:49:29.492Z"
   },
   {
    "duration": 11,
    "start_time": "2024-12-01T03:49:29.497Z"
   },
   {
    "duration": 93,
    "start_time": "2024-12-01T03:49:29.509Z"
   },
   {
    "duration": 3,
    "start_time": "2024-12-01T03:49:29.606Z"
   },
   {
    "duration": 18,
    "start_time": "2024-12-01T03:49:29.611Z"
   },
   {
    "duration": 52,
    "start_time": "2024-12-01T03:49:29.631Z"
   },
   {
    "duration": 4,
    "start_time": "2024-12-01T03:49:29.685Z"
   },
   {
    "duration": 3,
    "start_time": "2024-12-01T03:49:29.692Z"
   },
   {
    "duration": 6,
    "start_time": "2024-12-01T03:49:29.697Z"
   },
   {
    "duration": 8,
    "start_time": "2024-12-01T03:49:29.704Z"
   },
   {
    "duration": 644,
    "start_time": "2024-12-01T03:49:29.713Z"
   },
   {
    "duration": 3,
    "start_time": "2024-12-01T03:49:30.358Z"
   },
   {
    "duration": 6,
    "start_time": "2024-12-01T03:49:30.369Z"
   },
   {
    "duration": 6,
    "start_time": "2024-12-01T03:49:30.376Z"
   },
   {
    "duration": 2,
    "start_time": "2024-12-01T03:49:30.384Z"
   },
   {
    "duration": 6,
    "start_time": "2024-12-01T03:49:30.388Z"
   },
   {
    "duration": 0,
    "start_time": "2024-12-01T03:49:30.395Z"
   },
   {
    "duration": 0,
    "start_time": "2024-12-01T03:49:30.396Z"
   },
   {
    "duration": 0,
    "start_time": "2024-12-01T03:49:30.398Z"
   },
   {
    "duration": 0,
    "start_time": "2024-12-01T03:49:30.399Z"
   },
   {
    "duration": 0,
    "start_time": "2024-12-01T03:49:30.400Z"
   },
   {
    "duration": 0,
    "start_time": "2024-12-01T03:49:30.401Z"
   },
   {
    "duration": 2,
    "start_time": "2024-12-01T03:50:08.821Z"
   },
   {
    "duration": 227,
    "start_time": "2024-12-01T03:52:32.934Z"
   },
   {
    "duration": 18,
    "start_time": "2024-12-01T03:52:56.225Z"
   },
   {
    "duration": 3,
    "start_time": "2024-12-01T04:10:59.906Z"
   },
   {
    "duration": 17,
    "start_time": "2024-12-01T04:11:18.862Z"
   },
   {
    "duration": 24,
    "start_time": "2024-12-01T04:11:25.822Z"
   },
   {
    "duration": 4,
    "start_time": "2024-12-01T04:12:57.862Z"
   },
   {
    "duration": 23,
    "start_time": "2024-12-01T04:13:00.822Z"
   },
   {
    "duration": 3,
    "start_time": "2024-12-01T04:14:34.312Z"
   },
   {
    "duration": 23,
    "start_time": "2024-12-01T04:14:37.034Z"
   },
   {
    "duration": 3,
    "start_time": "2024-12-01T04:18:24.509Z"
   },
   {
    "duration": 33,
    "start_time": "2024-12-01T04:18:27.344Z"
   },
   {
    "duration": 2717,
    "start_time": "2024-12-01T06:19:07.215Z"
   },
   {
    "duration": 12,
    "start_time": "2024-12-01T06:19:09.935Z"
   },
   {
    "duration": 3,
    "start_time": "2024-12-01T06:19:09.951Z"
   },
   {
    "duration": 10,
    "start_time": "2024-12-01T06:19:09.956Z"
   },
   {
    "duration": 9,
    "start_time": "2024-12-01T06:19:09.967Z"
   },
   {
    "duration": 2,
    "start_time": "2024-12-01T06:19:09.978Z"
   },
   {
    "duration": 8,
    "start_time": "2024-12-01T06:19:09.982Z"
   },
   {
    "duration": 45,
    "start_time": "2024-12-01T06:19:09.991Z"
   },
   {
    "duration": 2568,
    "start_time": "2024-12-01T06:19:10.039Z"
   },
   {
    "duration": 3,
    "start_time": "2024-12-01T06:19:12.609Z"
   },
   {
    "duration": 4,
    "start_time": "2024-12-01T06:19:12.614Z"
   },
   {
    "duration": 14,
    "start_time": "2024-12-01T06:19:12.620Z"
   },
   {
    "duration": 15,
    "start_time": "2024-12-01T06:19:12.636Z"
   },
   {
    "duration": 2,
    "start_time": "2024-12-01T06:19:12.653Z"
   },
   {
    "duration": 18,
    "start_time": "2024-12-01T06:19:12.657Z"
   },
   {
    "duration": 56,
    "start_time": "2024-12-01T06:19:12.677Z"
   },
   {
    "duration": 4,
    "start_time": "2024-12-01T06:19:12.735Z"
   },
   {
    "duration": 5,
    "start_time": "2024-12-01T06:19:12.741Z"
   },
   {
    "duration": 7,
    "start_time": "2024-12-01T06:19:12.747Z"
   },
   {
    "duration": 7,
    "start_time": "2024-12-01T06:19:12.755Z"
   },
   {
    "duration": 620,
    "start_time": "2024-12-01T06:19:12.764Z"
   },
   {
    "duration": 5,
    "start_time": "2024-12-01T06:19:13.385Z"
   },
   {
    "duration": 5,
    "start_time": "2024-12-01T06:19:13.393Z"
   },
   {
    "duration": 5,
    "start_time": "2024-12-01T06:19:13.399Z"
   },
   {
    "duration": 2,
    "start_time": "2024-12-01T06:19:13.406Z"
   },
   {
    "duration": 38,
    "start_time": "2024-12-01T06:19:13.410Z"
   },
   {
    "duration": 4,
    "start_time": "2024-12-01T06:19:13.451Z"
   },
   {
    "duration": 5,
    "start_time": "2024-12-01T06:19:13.456Z"
   },
   {
    "duration": 0,
    "start_time": "2024-12-01T06:19:13.463Z"
   },
   {
    "duration": 0,
    "start_time": "2024-12-01T06:19:13.464Z"
   },
   {
    "duration": 0,
    "start_time": "2024-12-01T06:19:13.465Z"
   },
   {
    "duration": 0,
    "start_time": "2024-12-01T06:19:13.466Z"
   },
   {
    "duration": 0,
    "start_time": "2024-12-01T06:19:13.467Z"
   },
   {
    "duration": 4,
    "start_time": "2024-12-01T06:19:49.536Z"
   },
   {
    "duration": 3,
    "start_time": "2024-12-01T06:19:50.470Z"
   },
   {
    "duration": 448,
    "start_time": "2024-12-01T06:19:52.385Z"
   },
   {
    "duration": 4,
    "start_time": "2024-12-01T06:22:12.636Z"
   },
   {
    "duration": 3,
    "start_time": "2024-12-01T06:22:13.432Z"
   },
   {
    "duration": 37,
    "start_time": "2024-12-01T06:22:14.813Z"
   },
   {
    "duration": 3,
    "start_time": "2024-12-01T06:25:33.902Z"
   },
   {
    "duration": 4,
    "start_time": "2024-12-01T06:25:43.534Z"
   },
   {
    "duration": 3,
    "start_time": "2024-12-01T06:25:44.237Z"
   },
   {
    "duration": 8,
    "start_time": "2024-12-01T06:25:45.373Z"
   },
   {
    "duration": 5,
    "start_time": "2024-12-01T06:30:00.564Z"
   },
   {
    "duration": 6,
    "start_time": "2024-12-01T06:30:39.139Z"
   },
   {
    "duration": 3,
    "start_time": "2024-12-01T06:34:46.363Z"
   },
   {
    "duration": 4,
    "start_time": "2024-12-01T06:34:47.057Z"
   },
   {
    "duration": 7,
    "start_time": "2024-12-01T06:35:10.062Z"
   },
   {
    "duration": 590,
    "start_time": "2024-12-01T06:35:11.495Z"
   },
   {
    "duration": 3,
    "start_time": "2024-12-01T06:35:14.411Z"
   },
   {
    "duration": 6,
    "start_time": "2024-12-01T06:35:16.228Z"
   },
   {
    "duration": 5,
    "start_time": "2024-12-01T06:35:18.094Z"
   },
   {
    "duration": 3,
    "start_time": "2024-12-01T06:35:27.128Z"
   },
   {
    "duration": 19,
    "start_time": "2024-12-01T06:35:28.323Z"
   },
   {
    "duration": 4,
    "start_time": "2024-12-01T06:38:48.226Z"
   },
   {
    "duration": 12,
    "start_time": "2024-12-01T06:38:50.026Z"
   },
   {
    "duration": 4,
    "start_time": "2024-12-01T06:39:03.016Z"
   },
   {
    "duration": 8,
    "start_time": "2024-12-01T06:39:03.022Z"
   },
   {
    "duration": 3,
    "start_time": "2024-12-01T06:39:03.031Z"
   },
   {
    "duration": 8,
    "start_time": "2024-12-01T06:39:03.036Z"
   },
   {
    "duration": 8,
    "start_time": "2024-12-01T06:39:03.046Z"
   },
   {
    "duration": 3,
    "start_time": "2024-12-01T06:39:03.056Z"
   },
   {
    "duration": 8,
    "start_time": "2024-12-01T06:39:03.060Z"
   },
   {
    "duration": 16,
    "start_time": "2024-12-01T06:39:03.069Z"
   },
   {
    "duration": 2619,
    "start_time": "2024-12-01T06:39:03.087Z"
   },
   {
    "duration": 4,
    "start_time": "2024-12-01T06:39:05.708Z"
   },
   {
    "duration": 4,
    "start_time": "2024-12-01T06:39:05.714Z"
   },
   {
    "duration": 10,
    "start_time": "2024-12-01T06:39:05.732Z"
   },
   {
    "duration": 14,
    "start_time": "2024-12-01T06:39:05.744Z"
   },
   {
    "duration": 4,
    "start_time": "2024-12-01T06:39:05.761Z"
   },
   {
    "duration": 20,
    "start_time": "2024-12-01T06:39:05.767Z"
   },
   {
    "duration": 58,
    "start_time": "2024-12-01T06:39:05.789Z"
   },
   {
    "duration": 6,
    "start_time": "2024-12-01T06:39:05.850Z"
   },
   {
    "duration": 7,
    "start_time": "2024-12-01T06:39:05.857Z"
   },
   {
    "duration": 9,
    "start_time": "2024-12-01T06:39:05.865Z"
   },
   {
    "duration": 6,
    "start_time": "2024-12-01T06:39:05.876Z"
   },
   {
    "duration": 611,
    "start_time": "2024-12-01T06:39:05.884Z"
   },
   {
    "duration": 3,
    "start_time": "2024-12-01T06:39:06.497Z"
   },
   {
    "duration": 6,
    "start_time": "2024-12-01T06:39:06.502Z"
   },
   {
    "duration": 23,
    "start_time": "2024-12-01T06:39:06.510Z"
   },
   {
    "duration": 3,
    "start_time": "2024-12-01T06:39:06.535Z"
   },
   {
    "duration": 19,
    "start_time": "2024-12-01T06:39:06.540Z"
   },
   {
    "duration": 4,
    "start_time": "2024-12-01T06:39:06.560Z"
   },
   {
    "duration": 3,
    "start_time": "2024-12-01T06:39:06.566Z"
   },
   {
    "duration": 8,
    "start_time": "2024-12-01T06:39:06.571Z"
   },
   {
    "duration": 51,
    "start_time": "2024-12-01T06:39:06.580Z"
   },
   {
    "duration": 4,
    "start_time": "2024-12-01T06:39:12.150Z"
   },
   {
    "duration": 5,
    "start_time": "2024-12-01T06:39:13.415Z"
   },
   {
    "duration": 159,
    "start_time": "2024-12-20T19:39:25.468Z"
   },
   {
    "duration": 2755,
    "start_time": "2024-12-20T19:39:47.416Z"
   },
   {
    "duration": 16,
    "start_time": "2024-12-20T19:39:50.174Z"
   },
   {
    "duration": 4,
    "start_time": "2024-12-20T19:39:50.193Z"
   },
   {
    "duration": 10,
    "start_time": "2024-12-20T19:39:50.199Z"
   },
   {
    "duration": 9,
    "start_time": "2024-12-20T19:39:50.211Z"
   },
   {
    "duration": 11,
    "start_time": "2024-12-20T19:39:50.222Z"
   },
   {
    "duration": 10,
    "start_time": "2024-12-20T19:39:50.235Z"
   },
   {
    "duration": 17,
    "start_time": "2024-12-20T19:39:50.246Z"
   },
   {
    "duration": 2563,
    "start_time": "2024-12-20T19:39:50.265Z"
   },
   {
    "duration": 2,
    "start_time": "2024-12-20T19:39:52.830Z"
   },
   {
    "duration": 5,
    "start_time": "2024-12-20T19:39:52.834Z"
   },
   {
    "duration": 11,
    "start_time": "2024-12-20T19:39:52.840Z"
   },
   {
    "duration": 15,
    "start_time": "2024-12-20T19:39:52.853Z"
   },
   {
    "duration": 2,
    "start_time": "2024-12-20T19:39:52.871Z"
   },
   {
    "duration": 19,
    "start_time": "2024-12-20T19:39:52.875Z"
   },
   {
    "duration": 67,
    "start_time": "2024-12-20T19:39:52.896Z"
   },
   {
    "duration": 5,
    "start_time": "2024-12-20T19:39:52.965Z"
   },
   {
    "duration": 6,
    "start_time": "2024-12-20T19:39:52.971Z"
   },
   {
    "duration": 7,
    "start_time": "2024-12-20T19:39:52.978Z"
   },
   {
    "duration": 7,
    "start_time": "2024-12-20T19:39:52.987Z"
   },
   {
    "duration": 615,
    "start_time": "2024-12-20T19:39:52.996Z"
   },
   {
    "duration": 5,
    "start_time": "2024-12-20T19:39:53.613Z"
   },
   {
    "duration": 14,
    "start_time": "2024-12-20T19:39:53.619Z"
   },
   {
    "duration": 6,
    "start_time": "2024-12-20T19:39:53.634Z"
   },
   {
    "duration": 3,
    "start_time": "2024-12-20T19:39:53.641Z"
   },
   {
    "duration": 18,
    "start_time": "2024-12-20T19:39:53.646Z"
   },
   {
    "duration": 4,
    "start_time": "2024-12-20T19:39:53.665Z"
   },
   {
    "duration": 3,
    "start_time": "2024-12-20T19:39:53.671Z"
   },
   {
    "duration": 55,
    "start_time": "2024-12-20T19:39:53.676Z"
   },
   {
    "duration": 4,
    "start_time": "2024-12-20T19:39:53.733Z"
   },
   {
    "duration": 5,
    "start_time": "2024-12-20T19:39:53.739Z"
   },
   {
    "duration": 3,
    "start_time": "2024-12-20T19:40:06.756Z"
   },
   {
    "duration": 3,
    "start_time": "2024-12-20T19:40:09.526Z"
   },
   {
    "duration": 3,
    "start_time": "2024-12-20T19:40:13.614Z"
   },
   {
    "duration": 4,
    "start_time": "2024-12-20T19:40:54.013Z"
   },
   {
    "duration": 3,
    "start_time": "2024-12-20T19:44:38.812Z"
   },
   {
    "duration": 3,
    "start_time": "2024-12-20T19:44:59.906Z"
   },
   {
    "duration": 4,
    "start_time": "2024-12-20T19:45:02.881Z"
   },
   {
    "duration": 86,
    "start_time": "2024-12-20T19:51:51.268Z"
   },
   {
    "duration": 14,
    "start_time": "2024-12-20T19:53:39.587Z"
   },
   {
    "duration": 186,
    "start_time": "2024-12-20T19:53:53.144Z"
   },
   {
    "duration": 32,
    "start_time": "2024-12-20T19:54:10.429Z"
   },
   {
    "duration": 23,
    "start_time": "2024-12-20T19:54:18.339Z"
   },
   {
    "duration": 27,
    "start_time": "2024-12-20T19:54:37.379Z"
   },
   {
    "duration": 34,
    "start_time": "2024-12-20T19:55:38.668Z"
   },
   {
    "duration": 5,
    "start_time": "2024-12-20T19:56:34.790Z"
   },
   {
    "duration": 3,
    "start_time": "2024-12-20T19:56:40.143Z"
   },
   {
    "duration": 30,
    "start_time": "2024-12-20T19:58:00.295Z"
   },
   {
    "duration": 23,
    "start_time": "2024-12-20T19:59:20.781Z"
   },
   {
    "duration": 3,
    "start_time": "2024-12-20T21:57:43.746Z"
   },
   {
    "duration": 4,
    "start_time": "2024-12-20T21:58:04.678Z"
   },
   {
    "duration": 3,
    "start_time": "2024-12-20T21:58:10.787Z"
   },
   {
    "duration": 4,
    "start_time": "2024-12-20T22:00:40.796Z"
   },
   {
    "duration": 4,
    "start_time": "2024-12-20T22:00:53.522Z"
   },
   {
    "duration": 4,
    "start_time": "2024-12-20T22:01:23.299Z"
   },
   {
    "duration": 24,
    "start_time": "2024-12-20T22:01:32.669Z"
   },
   {
    "duration": 3,
    "start_time": "2024-12-20T22:13:14.205Z"
   },
   {
    "duration": 5,
    "start_time": "2024-12-20T22:13:19.018Z"
   },
   {
    "duration": 5,
    "start_time": "2024-12-20T22:15:26.951Z"
   },
   {
    "duration": 4,
    "start_time": "2024-12-20T22:15:31.630Z"
   },
   {
    "duration": 4,
    "start_time": "2024-12-20T22:15:53.514Z"
   },
   {
    "duration": 3,
    "start_time": "2024-12-20T22:16:21.783Z"
   },
   {
    "duration": 4,
    "start_time": "2024-12-20T22:16:28.815Z"
   },
   {
    "duration": 5,
    "start_time": "2024-12-20T22:16:37.847Z"
   },
   {
    "duration": 3,
    "start_time": "2024-12-20T22:16:44.847Z"
   },
   {
    "duration": 8,
    "start_time": "2024-12-20T22:16:44.852Z"
   },
   {
    "duration": 4,
    "start_time": "2024-12-20T22:16:44.861Z"
   },
   {
    "duration": 8,
    "start_time": "2024-12-20T22:16:44.867Z"
   },
   {
    "duration": 8,
    "start_time": "2024-12-20T22:16:44.878Z"
   },
   {
    "duration": 3,
    "start_time": "2024-12-20T22:16:44.888Z"
   },
   {
    "duration": 8,
    "start_time": "2024-12-20T22:16:44.893Z"
   },
   {
    "duration": 17,
    "start_time": "2024-12-20T22:16:44.932Z"
   },
   {
    "duration": 2694,
    "start_time": "2024-12-20T22:16:44.951Z"
   },
   {
    "duration": 5,
    "start_time": "2024-12-20T22:16:47.649Z"
   },
   {
    "duration": 5,
    "start_time": "2024-12-20T22:16:47.656Z"
   },
   {
    "duration": 12,
    "start_time": "2024-12-20T22:16:47.662Z"
   },
   {
    "duration": 19,
    "start_time": "2024-12-20T22:16:47.676Z"
   },
   {
    "duration": 3,
    "start_time": "2024-12-20T22:16:47.697Z"
   },
   {
    "duration": 50,
    "start_time": "2024-12-20T22:16:47.702Z"
   },
   {
    "duration": 32,
    "start_time": "2024-12-20T22:16:47.754Z"
   },
   {
    "duration": 5,
    "start_time": "2024-12-20T22:16:47.790Z"
   },
   {
    "duration": 5,
    "start_time": "2024-12-20T22:16:47.797Z"
   },
   {
    "duration": 33,
    "start_time": "2024-12-20T22:16:47.803Z"
   },
   {
    "duration": 8,
    "start_time": "2024-12-20T22:16:47.838Z"
   },
   {
    "duration": 602,
    "start_time": "2024-12-20T22:16:47.847Z"
   },
   {
    "duration": 4,
    "start_time": "2024-12-20T22:16:48.451Z"
   },
   {
    "duration": 6,
    "start_time": "2024-12-20T22:16:48.457Z"
   },
   {
    "duration": 5,
    "start_time": "2024-12-20T22:16:48.465Z"
   },
   {
    "duration": 3,
    "start_time": "2024-12-20T22:16:48.472Z"
   },
   {
    "duration": 19,
    "start_time": "2024-12-20T22:16:48.476Z"
   },
   {
    "duration": 34,
    "start_time": "2024-12-20T22:16:48.497Z"
   },
   {
    "duration": 3,
    "start_time": "2024-12-20T22:16:48.533Z"
   },
   {
    "duration": 9,
    "start_time": "2024-12-20T22:16:48.538Z"
   },
   {
    "duration": 4,
    "start_time": "2024-12-20T22:16:48.549Z"
   },
   {
    "duration": 7,
    "start_time": "2024-12-20T22:16:48.554Z"
   },
   {
    "duration": 4,
    "start_time": "2024-12-20T22:16:48.631Z"
   },
   {
    "duration": 5,
    "start_time": "2024-12-20T22:16:52.203Z"
   },
   {
    "duration": 4,
    "start_time": "2024-12-20T22:16:56.432Z"
   },
   {
    "duration": 4,
    "start_time": "2024-12-20T22:16:59.314Z"
   },
   {
    "duration": 4,
    "start_time": "2024-12-20T22:17:02.808Z"
   },
   {
    "duration": 12,
    "start_time": "2024-12-20T22:20:56.949Z"
   },
   {
    "duration": 4,
    "start_time": "2024-12-20T22:21:27.627Z"
   },
   {
    "duration": 5,
    "start_time": "2024-12-20T22:21:28.420Z"
   },
   {
    "duration": 3,
    "start_time": "2024-12-20T22:21:30.578Z"
   },
   {
    "duration": 3,
    "start_time": "2024-12-20T22:21:34.459Z"
   },
   {
    "duration": 3,
    "start_time": "2024-12-20T22:22:02.981Z"
   },
   {
    "duration": 3,
    "start_time": "2024-12-20T22:22:21.602Z"
   },
   {
    "duration": 4,
    "start_time": "2024-12-20T22:22:29.511Z"
   },
   {
    "duration": 4,
    "start_time": "2024-12-20T22:22:51.576Z"
   },
   {
    "duration": 15,
    "start_time": "2024-12-20T22:23:05.611Z"
   },
   {
    "duration": 3,
    "start_time": "2024-12-20T22:28:34.071Z"
   },
   {
    "duration": 5,
    "start_time": "2024-12-20T22:29:04.756Z"
   },
   {
    "duration": 13,
    "start_time": "2024-12-20T22:33:41.439Z"
   },
   {
    "duration": 4,
    "start_time": "2024-12-20T22:34:18.152Z"
   },
   {
    "duration": 3,
    "start_time": "2024-12-20T22:35:19.549Z"
   },
   {
    "duration": 3,
    "start_time": "2024-12-20T22:35:26.272Z"
   },
   {
    "duration": 5,
    "start_time": "2024-12-20T22:35:29.873Z"
   },
   {
    "duration": 16,
    "start_time": "2024-12-20T23:28:29.175Z"
   },
   {
    "duration": 4,
    "start_time": "2024-12-20T23:29:14.692Z"
   },
   {
    "duration": 15,
    "start_time": "2024-12-20T23:29:20.374Z"
   },
   {
    "duration": 3,
    "start_time": "2024-12-20T23:29:27.186Z"
   },
   {
    "duration": 4,
    "start_time": "2024-12-20T23:29:57.399Z"
   },
   {
    "duration": 15,
    "start_time": "2024-12-20T23:30:02.886Z"
   },
   {
    "duration": 4,
    "start_time": "2024-12-20T23:30:08.702Z"
   },
   {
    "duration": 4,
    "start_time": "2024-12-20T23:31:11.301Z"
   },
   {
    "duration": 4,
    "start_time": "2024-12-20T23:31:48.306Z"
   },
   {
    "duration": 5,
    "start_time": "2024-12-20T23:32:49.347Z"
   },
   {
    "duration": 4,
    "start_time": "2024-12-20T23:32:54.430Z"
   },
   {
    "duration": 4,
    "start_time": "2024-12-20T23:33:01.717Z"
   },
   {
    "duration": 6,
    "start_time": "2024-12-20T23:37:21.982Z"
   },
   {
    "duration": 4,
    "start_time": "2024-12-20T23:37:32.461Z"
   },
   {
    "duration": 13,
    "start_time": "2024-12-20T23:39:40.739Z"
   },
   {
    "duration": 4,
    "start_time": "2024-12-20T23:39:45.788Z"
   },
   {
    "duration": 14,
    "start_time": "2024-12-20T23:40:27.464Z"
   },
   {
    "duration": 4,
    "start_time": "2024-12-20T23:40:34.932Z"
   },
   {
    "duration": 5,
    "start_time": "2024-12-20T23:40:43.033Z"
   },
   {
    "duration": 3,
    "start_time": "2024-12-20T23:40:51.433Z"
   },
   {
    "duration": 4,
    "start_time": "2024-12-20T23:41:00.160Z"
   },
   {
    "duration": 4,
    "start_time": "2024-12-20T23:41:08.672Z"
   },
   {
    "duration": 3,
    "start_time": "2024-12-20T23:41:18.383Z"
   },
   {
    "duration": 7,
    "start_time": "2024-12-20T23:43:50.756Z"
   },
   {
    "duration": 7,
    "start_time": "2024-12-20T23:44:04.094Z"
   },
   {
    "duration": 8,
    "start_time": "2024-12-20T23:44:36.047Z"
   },
   {
    "duration": 9,
    "start_time": "2024-12-20T23:44:45.376Z"
   },
   {
    "duration": 7,
    "start_time": "2024-12-20T23:44:58.361Z"
   },
   {
    "duration": 8,
    "start_time": "2024-12-20T23:45:13.092Z"
   },
   {
    "duration": 7,
    "start_time": "2024-12-20T23:45:33.154Z"
   },
   {
    "duration": 5,
    "start_time": "2024-12-20T23:45:41.533Z"
   },
   {
    "duration": 7,
    "start_time": "2024-12-20T23:45:47.886Z"
   },
   {
    "duration": 7,
    "start_time": "2024-12-20T23:45:53.364Z"
   },
   {
    "duration": 7,
    "start_time": "2024-12-20T23:46:01.468Z"
   },
   {
    "duration": 9,
    "start_time": "2024-12-20T23:46:56.561Z"
   },
   {
    "duration": 5,
    "start_time": "2024-12-21T00:00:50.779Z"
   },
   {
    "duration": 162,
    "start_time": "2024-12-21T01:56:46.210Z"
   },
   {
    "duration": 2783,
    "start_time": "2024-12-21T01:56:50.510Z"
   },
   {
    "duration": 15,
    "start_time": "2024-12-21T01:56:53.295Z"
   },
   {
    "duration": 3,
    "start_time": "2024-12-21T01:56:53.312Z"
   },
   {
    "duration": 16,
    "start_time": "2024-12-21T01:56:53.317Z"
   },
   {
    "duration": 9,
    "start_time": "2024-12-21T01:56:53.335Z"
   },
   {
    "duration": 3,
    "start_time": "2024-12-21T01:56:53.346Z"
   },
   {
    "duration": 8,
    "start_time": "2024-12-21T01:56:53.351Z"
   },
   {
    "duration": 15,
    "start_time": "2024-12-21T01:56:53.360Z"
   },
   {
    "duration": 2615,
    "start_time": "2024-12-21T01:56:53.377Z"
   },
   {
    "duration": 2,
    "start_time": "2024-12-21T01:56:55.994Z"
   },
   {
    "duration": 4,
    "start_time": "2024-12-21T01:56:55.998Z"
   },
   {
    "duration": 10,
    "start_time": "2024-12-21T01:56:56.004Z"
   },
   {
    "duration": 105,
    "start_time": "2024-12-21T01:56:56.015Z"
   },
   {
    "duration": 3,
    "start_time": "2024-12-21T01:56:56.131Z"
   },
   {
    "duration": 19,
    "start_time": "2024-12-21T01:56:56.136Z"
   },
   {
    "duration": 33,
    "start_time": "2024-12-21T01:56:56.157Z"
   },
   {
    "duration": 5,
    "start_time": "2024-12-21T01:56:56.191Z"
   },
   {
    "duration": 4,
    "start_time": "2024-12-21T01:56:56.197Z"
   },
   {
    "duration": 31,
    "start_time": "2024-12-21T01:56:56.202Z"
   },
   {
    "duration": 7,
    "start_time": "2024-12-21T01:56:56.236Z"
   },
   {
    "duration": 650,
    "start_time": "2024-12-21T01:56:56.244Z"
   },
   {
    "duration": 4,
    "start_time": "2024-12-21T01:56:56.895Z"
   },
   {
    "duration": 6,
    "start_time": "2024-12-21T01:56:56.900Z"
   },
   {
    "duration": 25,
    "start_time": "2024-12-21T01:56:56.908Z"
   },
   {
    "duration": 2,
    "start_time": "2024-12-21T01:56:56.935Z"
   },
   {
    "duration": 19,
    "start_time": "2024-12-21T01:56:56.939Z"
   },
   {
    "duration": 4,
    "start_time": "2024-12-21T01:56:56.960Z"
   },
   {
    "duration": 3,
    "start_time": "2024-12-21T01:56:56.965Z"
   },
   {
    "duration": 12,
    "start_time": "2024-12-21T01:56:56.970Z"
   },
   {
    "duration": 48,
    "start_time": "2024-12-21T01:56:56.984Z"
   },
   {
    "duration": 6,
    "start_time": "2024-12-21T01:56:57.035Z"
   },
   {
    "duration": 4,
    "start_time": "2024-12-21T01:56:57.042Z"
   },
   {
    "duration": 3,
    "start_time": "2024-12-21T01:56:57.047Z"
   },
   {
    "duration": 3,
    "start_time": "2024-12-21T01:56:57.051Z"
   },
   {
    "duration": 5,
    "start_time": "2024-12-21T01:56:57.130Z"
   },
   {
    "duration": 5,
    "start_time": "2024-12-21T01:56:57.136Z"
   },
   {
    "duration": 14,
    "start_time": "2024-12-21T01:56:57.143Z"
   },
   {
    "duration": 3,
    "start_time": "2024-12-21T01:57:02.693Z"
   },
   {
    "duration": 4,
    "start_time": "2024-12-21T01:59:25.913Z"
   },
   {
    "duration": 157,
    "start_time": "2024-12-21T22:49:47.519Z"
   },
   {
    "duration": 2704,
    "start_time": "2024-12-21T22:49:52.552Z"
   },
   {
    "duration": 14,
    "start_time": "2024-12-21T22:49:55.259Z"
   },
   {
    "duration": 3,
    "start_time": "2024-12-21T22:49:55.276Z"
   },
   {
    "duration": 11,
    "start_time": "2024-12-21T22:49:55.281Z"
   },
   {
    "duration": 13,
    "start_time": "2024-12-21T22:49:55.295Z"
   },
   {
    "duration": 4,
    "start_time": "2024-12-21T22:49:55.309Z"
   },
   {
    "duration": 7,
    "start_time": "2024-12-21T22:49:55.315Z"
   },
   {
    "duration": 16,
    "start_time": "2024-12-21T22:49:55.323Z"
   },
   {
    "duration": 2493,
    "start_time": "2024-12-21T22:49:55.341Z"
   },
   {
    "duration": 2,
    "start_time": "2024-12-21T22:49:57.836Z"
   },
   {
    "duration": 3,
    "start_time": "2024-12-21T22:49:57.840Z"
   },
   {
    "duration": 10,
    "start_time": "2024-12-21T22:49:57.845Z"
   },
   {
    "duration": 14,
    "start_time": "2024-12-21T22:49:57.856Z"
   },
   {
    "duration": 2,
    "start_time": "2024-12-21T22:49:57.874Z"
   },
   {
    "duration": 29,
    "start_time": "2024-12-21T22:49:57.878Z"
   },
   {
    "duration": 31,
    "start_time": "2024-12-21T22:49:57.909Z"
   },
   {
    "duration": 4,
    "start_time": "2024-12-21T22:49:57.941Z"
   },
   {
    "duration": 4,
    "start_time": "2024-12-21T22:49:57.947Z"
   },
   {
    "duration": 7,
    "start_time": "2024-12-21T22:49:57.953Z"
   },
   {
    "duration": 6,
    "start_time": "2024-12-21T22:49:57.961Z"
   },
   {
    "duration": 612,
    "start_time": "2024-12-21T22:49:57.968Z"
   },
   {
    "duration": 3,
    "start_time": "2024-12-21T22:49:58.581Z"
   },
   {
    "duration": 6,
    "start_time": "2024-12-21T22:49:58.586Z"
   },
   {
    "duration": 6,
    "start_time": "2024-12-21T22:49:58.604Z"
   },
   {
    "duration": 2,
    "start_time": "2024-12-21T22:49:58.613Z"
   },
   {
    "duration": 21,
    "start_time": "2024-12-21T22:49:58.617Z"
   },
   {
    "duration": 4,
    "start_time": "2024-12-21T22:49:58.640Z"
   },
   {
    "duration": 3,
    "start_time": "2024-12-21T22:49:58.645Z"
   },
   {
    "duration": 6,
    "start_time": "2024-12-21T22:49:58.650Z"
   },
   {
    "duration": 8,
    "start_time": "2024-12-21T22:49:58.708Z"
   },
   {
    "duration": 7,
    "start_time": "2024-12-21T22:49:58.720Z"
   },
   {
    "duration": 75,
    "start_time": "2024-12-21T22:49:58.732Z"
   },
   {
    "duration": 3,
    "start_time": "2024-12-21T22:49:58.812Z"
   },
   {
    "duration": 4,
    "start_time": "2024-12-21T22:49:58.820Z"
   },
   {
    "duration": 3,
    "start_time": "2024-12-21T22:49:58.826Z"
   },
   {
    "duration": 80,
    "start_time": "2024-12-21T22:49:58.832Z"
   },
   {
    "duration": 12,
    "start_time": "2024-12-21T22:49:58.914Z"
   },
   {
    "duration": 78,
    "start_time": "2024-12-21T22:49:58.928Z"
   },
   {
    "duration": 2,
    "start_time": "2024-12-21T22:50:06.538Z"
   },
   {
    "duration": 3,
    "start_time": "2024-12-21T22:50:29.687Z"
   },
   {
    "duration": 4,
    "start_time": "2024-12-21T22:50:36.806Z"
   },
   {
    "duration": 3,
    "start_time": "2024-12-21T22:55:02.503Z"
   },
   {
    "duration": 4,
    "start_time": "2024-12-21T22:55:06.370Z"
   },
   {
    "duration": 3,
    "start_time": "2024-12-21T22:55:21.817Z"
   },
   {
    "duration": 7,
    "start_time": "2024-12-21T23:09:50.106Z"
   },
   {
    "duration": 4,
    "start_time": "2024-12-21T23:10:42.239Z"
   },
   {
    "duration": 4,
    "start_time": "2024-12-21T23:10:52.848Z"
   },
   {
    "duration": 99,
    "start_time": "2024-12-21T23:11:08.881Z"
   },
   {
    "duration": 3,
    "start_time": "2024-12-21T23:11:50.401Z"
   },
   {
    "duration": 9,
    "start_time": "2024-12-21T23:11:57.417Z"
   },
   {
    "duration": 80,
    "start_time": "2024-12-21T23:16:20.028Z"
   },
   {
    "duration": 55,
    "start_time": "2024-12-21T23:17:34.751Z"
   },
   {
    "duration": 22,
    "start_time": "2024-12-21T23:20:12.781Z"
   },
   {
    "duration": 263,
    "start_time": "2024-12-21T23:26:55.028Z"
   },
   {
    "duration": 14,
    "start_time": "2024-12-21T23:28:26.198Z"
   },
   {
    "duration": 3,
    "start_time": "2024-12-21T23:28:44.675Z"
   },
   {
    "duration": 13,
    "start_time": "2024-12-21T23:28:45.975Z"
   },
   {
    "duration": 3,
    "start_time": "2024-12-21T23:29:38.914Z"
   },
   {
    "duration": 3,
    "start_time": "2024-12-21T23:29:39.559Z"
   },
   {
    "duration": 9,
    "start_time": "2024-12-21T23:29:40.205Z"
   },
   {
    "duration": 25,
    "start_time": "2024-12-21T23:30:06.425Z"
   },
   {
    "duration": 4,
    "start_time": "2024-12-21T23:30:29.190Z"
   },
   {
    "duration": 8,
    "start_time": "2024-12-21T23:30:29.196Z"
   },
   {
    "duration": 3,
    "start_time": "2024-12-21T23:30:29.206Z"
   },
   {
    "duration": 8,
    "start_time": "2024-12-21T23:30:29.211Z"
   },
   {
    "duration": 7,
    "start_time": "2024-12-21T23:30:29.222Z"
   },
   {
    "duration": 3,
    "start_time": "2024-12-21T23:30:29.231Z"
   },
   {
    "duration": 8,
    "start_time": "2024-12-21T23:30:29.235Z"
   },
   {
    "duration": 16,
    "start_time": "2024-12-21T23:30:29.244Z"
   },
   {
    "duration": 2658,
    "start_time": "2024-12-21T23:30:29.262Z"
   },
   {
    "duration": 2,
    "start_time": "2024-12-21T23:30:31.922Z"
   },
   {
    "duration": 4,
    "start_time": "2024-12-21T23:30:31.926Z"
   },
   {
    "duration": 10,
    "start_time": "2024-12-21T23:30:31.932Z"
   },
   {
    "duration": 14,
    "start_time": "2024-12-21T23:30:31.944Z"
   },
   {
    "duration": 2,
    "start_time": "2024-12-21T23:30:31.962Z"
   },
   {
    "duration": 54,
    "start_time": "2024-12-21T23:30:31.966Z"
   },
   {
    "duration": 35,
    "start_time": "2024-12-21T23:30:32.021Z"
   },
   {
    "duration": 3,
    "start_time": "2024-12-21T23:30:32.058Z"
   },
   {
    "duration": 5,
    "start_time": "2024-12-21T23:30:32.063Z"
   },
   {
    "duration": 6,
    "start_time": "2024-12-21T23:30:32.069Z"
   },
   {
    "duration": 33,
    "start_time": "2024-12-21T23:30:32.077Z"
   },
   {
    "duration": 605,
    "start_time": "2024-12-21T23:30:32.112Z"
   },
   {
    "duration": 4,
    "start_time": "2024-12-21T23:30:32.719Z"
   },
   {
    "duration": 6,
    "start_time": "2024-12-21T23:30:32.726Z"
   },
   {
    "duration": 5,
    "start_time": "2024-12-21T23:30:32.733Z"
   },
   {
    "duration": 3,
    "start_time": "2024-12-21T23:30:32.739Z"
   },
   {
    "duration": 18,
    "start_time": "2024-12-21T23:30:32.744Z"
   },
   {
    "duration": 3,
    "start_time": "2024-12-21T23:30:32.764Z"
   },
   {
    "duration": 3,
    "start_time": "2024-12-21T23:30:32.769Z"
   },
   {
    "duration": 8,
    "start_time": "2024-12-21T23:30:32.807Z"
   },
   {
    "duration": 4,
    "start_time": "2024-12-21T23:30:32.816Z"
   },
   {
    "duration": 4,
    "start_time": "2024-12-21T23:30:32.822Z"
   },
   {
    "duration": 3,
    "start_time": "2024-12-21T23:30:32.828Z"
   },
   {
    "duration": 73,
    "start_time": "2024-12-21T23:30:32.833Z"
   },
   {
    "duration": 4,
    "start_time": "2024-12-21T23:30:32.908Z"
   },
   {
    "duration": 4,
    "start_time": "2024-12-21T23:30:32.914Z"
   },
   {
    "duration": 7,
    "start_time": "2024-12-21T23:30:32.920Z"
   },
   {
    "duration": 95,
    "start_time": "2024-12-21T23:30:32.930Z"
   },
   {
    "duration": 4,
    "start_time": "2024-12-21T23:30:33.027Z"
   },
   {
    "duration": 3,
    "start_time": "2024-12-21T23:30:33.032Z"
   },
   {
    "duration": 3,
    "start_time": "2024-12-21T23:30:33.037Z"
   },
   {
    "duration": 9,
    "start_time": "2024-12-21T23:30:33.109Z"
   },
   {
    "duration": 19,
    "start_time": "2024-12-21T23:30:33.120Z"
   },
   {
    "duration": 44,
    "start_time": "2024-12-21T23:30:47.363Z"
   },
   {
    "duration": 3,
    "start_time": "2024-12-21T23:34:32.015Z"
   },
   {
    "duration": 2,
    "start_time": "2024-12-21T23:37:33.796Z"
   },
   {
    "duration": 2,
    "start_time": "2024-12-21T23:37:37.043Z"
   },
   {
    "duration": 3,
    "start_time": "2024-12-21T23:38:01.772Z"
   },
   {
    "duration": 8,
    "start_time": "2024-12-21T23:40:25.079Z"
   },
   {
    "duration": 214,
    "start_time": "2024-12-21T23:40:57.143Z"
   },
   {
    "duration": 4,
    "start_time": "2024-12-21T23:41:09.657Z"
   },
   {
    "duration": 9,
    "start_time": "2024-12-21T23:41:09.663Z"
   },
   {
    "duration": 3,
    "start_time": "2024-12-21T23:41:09.674Z"
   },
   {
    "duration": 8,
    "start_time": "2024-12-21T23:41:09.679Z"
   },
   {
    "duration": 10,
    "start_time": "2024-12-21T23:41:09.689Z"
   },
   {
    "duration": 4,
    "start_time": "2024-12-21T23:41:09.701Z"
   },
   {
    "duration": 10,
    "start_time": "2024-12-21T23:41:09.707Z"
   },
   {
    "duration": 17,
    "start_time": "2024-12-21T23:41:09.719Z"
   },
   {
    "duration": 2628,
    "start_time": "2024-12-21T23:41:09.737Z"
   },
   {
    "duration": 2,
    "start_time": "2024-12-21T23:41:12.367Z"
   },
   {
    "duration": 3,
    "start_time": "2024-12-21T23:41:12.371Z"
   },
   {
    "duration": 10,
    "start_time": "2024-12-21T23:41:12.376Z"
   },
   {
    "duration": 28,
    "start_time": "2024-12-21T23:41:12.388Z"
   },
   {
    "duration": 3,
    "start_time": "2024-12-21T23:41:12.421Z"
   },
   {
    "duration": 30,
    "start_time": "2024-12-21T23:41:12.426Z"
   },
   {
    "duration": 72,
    "start_time": "2024-12-21T23:41:12.458Z"
   },
   {
    "duration": 4,
    "start_time": "2024-12-21T23:41:12.532Z"
   },
   {
    "duration": 5,
    "start_time": "2024-12-21T23:41:12.538Z"
   },
   {
    "duration": 7,
    "start_time": "2024-12-21T23:41:12.545Z"
   },
   {
    "duration": 56,
    "start_time": "2024-12-21T23:41:12.553Z"
   },
   {
    "duration": 589,
    "start_time": "2024-12-21T23:41:12.611Z"
   },
   {
    "duration": 7,
    "start_time": "2024-12-21T23:41:13.201Z"
   },
   {
    "duration": 5,
    "start_time": "2024-12-21T23:41:13.210Z"
   },
   {
    "duration": 6,
    "start_time": "2024-12-21T23:41:13.217Z"
   },
   {
    "duration": 3,
    "start_time": "2024-12-21T23:41:13.225Z"
   },
   {
    "duration": 19,
    "start_time": "2024-12-21T23:41:13.229Z"
   },
   {
    "duration": 4,
    "start_time": "2024-12-21T23:41:13.249Z"
   },
   {
    "duration": 3,
    "start_time": "2024-12-21T23:41:13.255Z"
   },
   {
    "duration": 7,
    "start_time": "2024-12-21T23:41:13.259Z"
   },
   {
    "duration": 9,
    "start_time": "2024-12-21T23:41:13.306Z"
   },
   {
    "duration": 6,
    "start_time": "2024-12-21T23:41:13.317Z"
   },
   {
    "duration": 5,
    "start_time": "2024-12-21T23:41:13.324Z"
   },
   {
    "duration": 75,
    "start_time": "2024-12-21T23:41:13.330Z"
   },
   {
    "duration": 4,
    "start_time": "2024-12-21T23:41:13.407Z"
   },
   {
    "duration": 4,
    "start_time": "2024-12-21T23:41:13.412Z"
   },
   {
    "duration": 5,
    "start_time": "2024-12-21T23:41:13.417Z"
   },
   {
    "duration": 82,
    "start_time": "2024-12-21T23:41:13.424Z"
   },
   {
    "duration": 3,
    "start_time": "2024-12-21T23:41:13.509Z"
   },
   {
    "duration": 3,
    "start_time": "2024-12-21T23:41:13.514Z"
   },
   {
    "duration": 3,
    "start_time": "2024-12-21T23:41:13.518Z"
   },
   {
    "duration": 122,
    "start_time": "2024-12-21T23:41:20.705Z"
   },
   {
    "duration": 177,
    "start_time": "2024-12-21T23:43:03.930Z"
   },
   {
    "duration": 956,
    "start_time": "2024-12-21T23:46:49.578Z"
   },
   {
    "duration": 7,
    "start_time": "2024-12-21T23:46:50.536Z"
   },
   {
    "duration": 3,
    "start_time": "2024-12-21T23:46:50.545Z"
   },
   {
    "duration": 10,
    "start_time": "2024-12-21T23:46:50.550Z"
   },
   {
    "duration": 9,
    "start_time": "2024-12-21T23:46:50.561Z"
   },
   {
    "duration": 3,
    "start_time": "2024-12-21T23:46:50.571Z"
   },
   {
    "duration": 34,
    "start_time": "2024-12-21T23:46:50.575Z"
   },
   {
    "duration": 16,
    "start_time": "2024-12-21T23:46:50.610Z"
   },
   {
    "duration": 2589,
    "start_time": "2024-12-21T23:46:50.628Z"
   },
   {
    "duration": 2,
    "start_time": "2024-12-21T23:46:53.221Z"
   },
   {
    "duration": 5,
    "start_time": "2024-12-21T23:46:53.224Z"
   },
   {
    "duration": 10,
    "start_time": "2024-12-21T23:46:53.231Z"
   },
   {
    "duration": 14,
    "start_time": "2024-12-21T23:46:53.242Z"
   },
   {
    "duration": 2,
    "start_time": "2024-12-21T23:46:53.258Z"
   },
   {
    "duration": 18,
    "start_time": "2024-12-21T23:46:53.262Z"
   },
   {
    "duration": 41,
    "start_time": "2024-12-21T23:46:53.304Z"
   },
   {
    "duration": 4,
    "start_time": "2024-12-21T23:46:53.347Z"
   },
   {
    "duration": 4,
    "start_time": "2024-12-21T23:46:53.353Z"
   },
   {
    "duration": 6,
    "start_time": "2024-12-21T23:46:53.359Z"
   },
   {
    "duration": 6,
    "start_time": "2024-12-21T23:46:53.367Z"
   },
   {
    "duration": 590,
    "start_time": "2024-12-21T23:46:53.375Z"
   },
   {
    "duration": 3,
    "start_time": "2024-12-21T23:46:53.967Z"
   },
   {
    "duration": 5,
    "start_time": "2024-12-21T23:46:53.972Z"
   },
   {
    "duration": 6,
    "start_time": "2024-12-21T23:46:53.979Z"
   },
   {
    "duration": 2,
    "start_time": "2024-12-21T23:46:54.005Z"
   },
   {
    "duration": 19,
    "start_time": "2024-12-21T23:46:54.009Z"
   },
   {
    "duration": 5,
    "start_time": "2024-12-21T23:46:54.030Z"
   },
   {
    "duration": 3,
    "start_time": "2024-12-21T23:46:54.039Z"
   },
   {
    "duration": 10,
    "start_time": "2024-12-21T23:46:54.043Z"
   },
   {
    "duration": 51,
    "start_time": "2024-12-21T23:46:54.055Z"
   },
   {
    "duration": 6,
    "start_time": "2024-12-21T23:46:54.108Z"
   },
   {
    "duration": 3,
    "start_time": "2024-12-21T23:46:54.115Z"
   },
   {
    "duration": 4,
    "start_time": "2024-12-21T23:46:54.122Z"
   },
   {
    "duration": 77,
    "start_time": "2024-12-21T23:46:54.129Z"
   },
   {
    "duration": 4,
    "start_time": "2024-12-21T23:46:54.208Z"
   },
   {
    "duration": 5,
    "start_time": "2024-12-21T23:46:54.214Z"
   },
   {
    "duration": 10,
    "start_time": "2024-12-21T23:46:54.220Z"
   },
   {
    "duration": 75,
    "start_time": "2024-12-21T23:46:54.232Z"
   },
   {
    "duration": 3,
    "start_time": "2024-12-21T23:46:54.309Z"
   },
   {
    "duration": 3,
    "start_time": "2024-12-21T23:46:54.314Z"
   },
   {
    "duration": 376,
    "start_time": "2024-12-21T23:46:54.318Z"
   },
   {
    "duration": 0,
    "start_time": "2024-12-21T23:46:54.696Z"
   },
   {
    "duration": 41,
    "start_time": "2024-12-21T23:48:38.268Z"
   },
   {
    "duration": 8,
    "start_time": "2024-12-21T23:49:34.656Z"
   },
   {
    "duration": 7,
    "start_time": "2024-12-21T23:51:46.234Z"
   },
   {
    "duration": 5,
    "start_time": "2024-12-21T23:53:12.340Z"
   },
   {
    "duration": 6,
    "start_time": "2024-12-21T23:53:38.490Z"
   },
   {
    "duration": 5,
    "start_time": "2024-12-21T23:53:57.653Z"
   },
   {
    "duration": 7,
    "start_time": "2024-12-21T23:53:58.488Z"
   },
   {
    "duration": 210,
    "start_time": "2024-12-27T20:10:27.458Z"
   },
   {
    "duration": 3221,
    "start_time": "2024-12-27T20:10:31.055Z"
   },
   {
    "duration": 12,
    "start_time": "2024-12-27T20:10:34.279Z"
   },
   {
    "duration": 3,
    "start_time": "2024-12-27T20:10:34.293Z"
   },
   {
    "duration": 11,
    "start_time": "2024-12-27T20:10:34.298Z"
   },
   {
    "duration": 9,
    "start_time": "2024-12-27T20:10:34.311Z"
   },
   {
    "duration": 23,
    "start_time": "2024-12-27T20:10:34.321Z"
   },
   {
    "duration": 11,
    "start_time": "2024-12-27T20:10:34.358Z"
   },
   {
    "duration": 17,
    "start_time": "2024-12-27T20:10:34.371Z"
   },
   {
    "duration": 2970,
    "start_time": "2024-12-27T20:10:34.390Z"
   },
   {
    "duration": 2,
    "start_time": "2024-12-27T20:10:37.362Z"
   },
   {
    "duration": 4,
    "start_time": "2024-12-27T20:10:37.366Z"
   },
   {
    "duration": 11,
    "start_time": "2024-12-27T20:10:37.371Z"
   },
   {
    "duration": 114,
    "start_time": "2024-12-27T20:10:37.384Z"
   },
   {
    "duration": 2,
    "start_time": "2024-12-27T20:10:37.501Z"
   },
   {
    "duration": 35,
    "start_time": "2024-12-27T20:10:37.505Z"
   },
   {
    "duration": 40,
    "start_time": "2024-12-27T20:10:37.542Z"
   },
   {
    "duration": 5,
    "start_time": "2024-12-27T20:10:48.178Z"
   },
   {
    "duration": 5,
    "start_time": "2024-12-27T20:11:14.462Z"
   },
   {
    "duration": 8,
    "start_time": "2024-12-27T20:11:29.251Z"
   },
   {
    "duration": 13,
    "start_time": "2024-12-27T20:13:46.349Z"
   },
   {
    "duration": 54309,
    "start_time": "2024-12-27T20:15:23.256Z"
   },
   {
    "duration": 0,
    "start_time": "2024-12-27T20:16:17.568Z"
   },
   {
    "duration": 1231,
    "start_time": "2024-12-27T20:17:47.443Z"
   },
   {
    "duration": 9,
    "start_time": "2024-12-27T20:17:48.676Z"
   },
   {
    "duration": 3,
    "start_time": "2024-12-27T20:17:48.687Z"
   },
   {
    "duration": 10,
    "start_time": "2024-12-27T20:17:48.692Z"
   },
   {
    "duration": 31,
    "start_time": "2024-12-27T20:17:48.705Z"
   },
   {
    "duration": 6,
    "start_time": "2024-12-27T20:17:48.738Z"
   },
   {
    "duration": 15,
    "start_time": "2024-12-27T20:17:48.746Z"
   },
   {
    "duration": 20,
    "start_time": "2024-12-27T20:17:48.763Z"
   },
   {
    "duration": 3038,
    "start_time": "2024-12-27T20:17:48.785Z"
   },
   {
    "duration": 3,
    "start_time": "2024-12-27T20:17:51.825Z"
   },
   {
    "duration": 6,
    "start_time": "2024-12-27T20:17:51.829Z"
   },
   {
    "duration": 29,
    "start_time": "2024-12-27T20:17:51.837Z"
   },
   {
    "duration": 15,
    "start_time": "2024-12-27T20:17:51.868Z"
   },
   {
    "duration": 3,
    "start_time": "2024-12-27T20:17:51.886Z"
   },
   {
    "duration": 17,
    "start_time": "2024-12-27T20:17:51.890Z"
   },
   {
    "duration": 65,
    "start_time": "2024-12-27T20:17:51.909Z"
   },
   {
    "duration": 815,
    "start_time": "2024-12-27T20:17:51.978Z"
   },
   {
    "duration": 0,
    "start_time": "2024-12-27T20:17:52.795Z"
   },
   {
    "duration": 0,
    "start_time": "2024-12-27T20:17:52.797Z"
   },
   {
    "duration": 0,
    "start_time": "2024-12-27T20:17:52.798Z"
   },
   {
    "duration": 0,
    "start_time": "2024-12-27T20:17:52.799Z"
   },
   {
    "duration": 0,
    "start_time": "2024-12-27T20:17:52.800Z"
   },
   {
    "duration": 0,
    "start_time": "2024-12-27T20:17:52.802Z"
   },
   {
    "duration": 0,
    "start_time": "2024-12-27T20:17:52.803Z"
   },
   {
    "duration": 0,
    "start_time": "2024-12-27T20:17:52.805Z"
   },
   {
    "duration": 0,
    "start_time": "2024-12-27T20:17:52.807Z"
   },
   {
    "duration": 0,
    "start_time": "2024-12-27T20:17:52.808Z"
   },
   {
    "duration": 0,
    "start_time": "2024-12-27T20:17:52.809Z"
   },
   {
    "duration": 0,
    "start_time": "2024-12-27T20:17:52.810Z"
   },
   {
    "duration": 0,
    "start_time": "2024-12-27T20:17:52.811Z"
   },
   {
    "duration": 0,
    "start_time": "2024-12-27T20:17:52.813Z"
   },
   {
    "duration": 0,
    "start_time": "2024-12-27T20:17:52.814Z"
   },
   {
    "duration": 0,
    "start_time": "2024-12-27T20:17:52.835Z"
   },
   {
    "duration": 0,
    "start_time": "2024-12-27T20:17:52.839Z"
   },
   {
    "duration": 0,
    "start_time": "2024-12-27T20:17:52.841Z"
   },
   {
    "duration": 0,
    "start_time": "2024-12-27T20:17:52.842Z"
   },
   {
    "duration": 0,
    "start_time": "2024-12-27T20:17:52.845Z"
   },
   {
    "duration": 0,
    "start_time": "2024-12-27T20:17:52.847Z"
   },
   {
    "duration": 0,
    "start_time": "2024-12-27T20:17:52.851Z"
   },
   {
    "duration": 0,
    "start_time": "2024-12-27T20:17:52.852Z"
   },
   {
    "duration": 0,
    "start_time": "2024-12-27T20:17:52.853Z"
   },
   {
    "duration": 0,
    "start_time": "2024-12-27T20:17:52.854Z"
   },
   {
    "duration": 42,
    "start_time": "2024-12-27T20:18:01.665Z"
   },
   {
    "duration": 138,
    "start_time": "2024-12-27T20:18:14.275Z"
   },
   {
    "duration": 40,
    "start_time": "2024-12-27T20:19:14.267Z"
   },
   {
    "duration": 44,
    "start_time": "2024-12-27T20:19:27.812Z"
   },
   {
    "duration": 4,
    "start_time": "2024-12-27T20:21:31.711Z"
   },
   {
    "duration": 5,
    "start_time": "2024-12-27T20:22:30.977Z"
   },
   {
    "duration": 7,
    "start_time": "2024-12-27T20:22:31.911Z"
   },
   {
    "duration": 22,
    "start_time": "2024-12-27T20:23:15.025Z"
   },
   {
    "duration": 4,
    "start_time": "2024-12-27T20:23:25.814Z"
   },
   {
    "duration": 7,
    "start_time": "2024-12-27T20:23:25.820Z"
   },
   {
    "duration": 14,
    "start_time": "2024-12-27T20:23:25.829Z"
   },
   {
    "duration": 12,
    "start_time": "2024-12-27T20:23:25.847Z"
   },
   {
    "duration": 10,
    "start_time": "2024-12-27T20:23:25.861Z"
   },
   {
    "duration": 3,
    "start_time": "2024-12-27T20:23:25.872Z"
   },
   {
    "duration": 8,
    "start_time": "2024-12-27T20:23:25.879Z"
   },
   {
    "duration": 16,
    "start_time": "2024-12-27T20:23:25.889Z"
   },
   {
    "duration": 3207,
    "start_time": "2024-12-27T20:23:25.932Z"
   },
   {
    "duration": 11,
    "start_time": "2024-12-27T20:23:29.143Z"
   },
   {
    "duration": 4,
    "start_time": "2024-12-27T20:23:29.156Z"
   },
   {
    "duration": 12,
    "start_time": "2024-12-27T20:23:29.163Z"
   },
   {
    "duration": 16,
    "start_time": "2024-12-27T20:23:29.176Z"
   },
   {
    "duration": 3,
    "start_time": "2024-12-27T20:23:29.194Z"
   },
   {
    "duration": 46,
    "start_time": "2024-12-27T20:23:29.198Z"
   },
   {
    "duration": 45,
    "start_time": "2024-12-27T20:23:29.247Z"
   },
   {
    "duration": 5,
    "start_time": "2024-12-27T20:23:29.294Z"
   },
   {
    "duration": 6,
    "start_time": "2024-12-27T20:23:29.300Z"
   },
   {
    "duration": 23,
    "start_time": "2024-12-27T20:23:29.308Z"
   },
   {
    "duration": 11,
    "start_time": "2024-12-27T20:23:29.334Z"
   },
   {
    "duration": 703,
    "start_time": "2024-12-27T20:23:29.348Z"
   },
   {
    "duration": 4,
    "start_time": "2024-12-27T20:23:30.053Z"
   },
   {
    "duration": 8,
    "start_time": "2024-12-27T20:23:30.059Z"
   },
   {
    "duration": 5,
    "start_time": "2024-12-27T20:23:30.069Z"
   },
   {
    "duration": 3,
    "start_time": "2024-12-27T20:23:30.076Z"
   },
   {
    "duration": 60,
    "start_time": "2024-12-27T20:23:34.709Z"
   },
   {
    "duration": 19,
    "start_time": "2024-12-27T20:23:44.979Z"
   },
   {
    "duration": 26,
    "start_time": "2024-12-27T20:27:20.138Z"
   },
   {
    "duration": 3,
    "start_time": "2024-12-27T20:27:25.298Z"
   },
   {
    "duration": 8,
    "start_time": "2024-12-27T20:27:25.303Z"
   },
   {
    "duration": 2,
    "start_time": "2024-12-27T20:27:25.313Z"
   },
   {
    "duration": 8,
    "start_time": "2024-12-27T20:27:25.317Z"
   },
   {
    "duration": 15,
    "start_time": "2024-12-27T20:27:25.327Z"
   },
   {
    "duration": 4,
    "start_time": "2024-12-27T20:27:25.344Z"
   },
   {
    "duration": 10,
    "start_time": "2024-12-27T20:27:25.349Z"
   },
   {
    "duration": 20,
    "start_time": "2024-12-27T20:27:25.361Z"
   },
   {
    "duration": 3186,
    "start_time": "2024-12-27T20:27:25.383Z"
   },
   {
    "duration": 3,
    "start_time": "2024-12-27T20:27:28.570Z"
   },
   {
    "duration": 4,
    "start_time": "2024-12-27T20:27:28.575Z"
   },
   {
    "duration": 12,
    "start_time": "2024-12-27T20:27:28.580Z"
   },
   {
    "duration": 43,
    "start_time": "2024-12-27T20:27:28.594Z"
   },
   {
    "duration": 12,
    "start_time": "2024-12-27T20:27:28.642Z"
   },
   {
    "duration": 25,
    "start_time": "2024-12-27T20:27:28.656Z"
   },
   {
    "duration": 33,
    "start_time": "2024-12-27T20:27:28.683Z"
   },
   {
    "duration": 3,
    "start_time": "2024-12-27T20:27:28.718Z"
   },
   {
    "duration": 17,
    "start_time": "2024-12-27T20:27:28.731Z"
   },
   {
    "duration": 11,
    "start_time": "2024-12-27T20:27:28.751Z"
   },
   {
    "duration": 7,
    "start_time": "2024-12-27T20:27:28.763Z"
   },
   {
    "duration": 720,
    "start_time": "2024-12-27T20:27:28.771Z"
   },
   {
    "duration": 3,
    "start_time": "2024-12-27T20:27:29.493Z"
   },
   {
    "duration": 5,
    "start_time": "2024-12-27T20:27:29.498Z"
   },
   {
    "duration": 5,
    "start_time": "2024-12-27T20:27:29.505Z"
   },
   {
    "duration": 20,
    "start_time": "2024-12-27T20:27:29.513Z"
   },
   {
    "duration": 36,
    "start_time": "2024-12-27T20:27:29.535Z"
   },
   {
    "duration": 4,
    "start_time": "2024-12-27T20:27:29.573Z"
   },
   {
    "duration": 4,
    "start_time": "2024-12-27T20:27:29.578Z"
   },
   {
    "duration": 8,
    "start_time": "2024-12-27T20:27:29.583Z"
   },
   {
    "duration": 9,
    "start_time": "2024-12-27T20:27:35.744Z"
   },
   {
    "duration": 20,
    "start_time": "2024-12-27T20:28:17.247Z"
   },
   {
    "duration": 2,
    "start_time": "2024-12-27T20:28:24.919Z"
   },
   {
    "duration": 18,
    "start_time": "2024-12-27T20:28:24.924Z"
   },
   {
    "duration": 4,
    "start_time": "2024-12-27T20:28:24.945Z"
   },
   {
    "duration": 14,
    "start_time": "2024-12-27T20:28:24.952Z"
   },
   {
    "duration": 9,
    "start_time": "2024-12-27T20:28:24.968Z"
   },
   {
    "duration": 5,
    "start_time": "2024-12-27T20:28:24.978Z"
   },
   {
    "duration": 8,
    "start_time": "2024-12-27T20:28:24.984Z"
   },
   {
    "duration": 15,
    "start_time": "2024-12-27T20:28:24.994Z"
   },
   {
    "duration": 3263,
    "start_time": "2024-12-27T20:28:25.011Z"
   },
   {
    "duration": 4,
    "start_time": "2024-12-27T20:28:28.276Z"
   },
   {
    "duration": 4,
    "start_time": "2024-12-27T20:28:28.281Z"
   },
   {
    "duration": 10,
    "start_time": "2024-12-27T20:28:28.287Z"
   },
   {
    "duration": 40,
    "start_time": "2024-12-27T20:28:28.298Z"
   },
   {
    "duration": 11,
    "start_time": "2024-12-27T20:28:28.343Z"
   },
   {
    "duration": 26,
    "start_time": "2024-12-27T20:28:28.357Z"
   },
   {
    "duration": 38,
    "start_time": "2024-12-27T20:28:28.384Z"
   },
   {
    "duration": 9,
    "start_time": "2024-12-27T20:28:28.424Z"
   },
   {
    "duration": 14,
    "start_time": "2024-12-27T20:28:28.437Z"
   },
   {
    "duration": 12,
    "start_time": "2024-12-27T20:28:28.460Z"
   },
   {
    "duration": 8,
    "start_time": "2024-12-27T20:28:28.475Z"
   },
   {
    "duration": 698,
    "start_time": "2024-12-27T20:28:28.484Z"
   },
   {
    "duration": 4,
    "start_time": "2024-12-27T20:28:29.184Z"
   },
   {
    "duration": 6,
    "start_time": "2024-12-27T20:28:29.189Z"
   },
   {
    "duration": 5,
    "start_time": "2024-12-27T20:28:29.196Z"
   },
   {
    "duration": 2,
    "start_time": "2024-12-27T20:28:29.203Z"
   },
   {
    "duration": 55,
    "start_time": "2024-12-27T20:28:29.207Z"
   },
   {
    "duration": 4,
    "start_time": "2024-12-27T20:28:29.264Z"
   },
   {
    "duration": 3,
    "start_time": "2024-12-27T20:28:29.271Z"
   },
   {
    "duration": 13,
    "start_time": "2024-12-27T20:28:29.276Z"
   },
   {
    "duration": 47,
    "start_time": "2024-12-27T20:28:29.291Z"
   },
   {
    "duration": 7,
    "start_time": "2024-12-27T20:28:29.340Z"
   },
   {
    "duration": 9,
    "start_time": "2024-12-27T20:28:29.349Z"
   },
   {
    "duration": 5,
    "start_time": "2024-12-27T20:28:29.360Z"
   },
   {
    "duration": 4,
    "start_time": "2024-12-27T20:28:29.368Z"
   },
   {
    "duration": 10,
    "start_time": "2024-12-27T20:28:29.435Z"
   },
   {
    "duration": 9,
    "start_time": "2024-12-27T20:28:35.126Z"
   },
   {
    "duration": 4,
    "start_time": "2024-12-27T20:28:54.512Z"
   },
   {
    "duration": 12,
    "start_time": "2024-12-27T20:29:48.806Z"
   },
   {
    "duration": 23,
    "start_time": "2024-12-27T20:30:21.875Z"
   },
   {
    "duration": 9,
    "start_time": "2024-12-27T20:30:26.861Z"
   },
   {
    "duration": 11,
    "start_time": "2024-12-27T20:30:30.365Z"
   },
   {
    "duration": 8,
    "start_time": "2024-12-27T20:32:39.393Z"
   },
   {
    "duration": 4,
    "start_time": "2024-12-27T20:32:52.563Z"
   },
   {
    "duration": 4,
    "start_time": "2024-12-27T20:34:02.360Z"
   },
   {
    "duration": 2698,
    "start_time": "2024-12-27T22:09:53.740Z"
   },
   {
    "duration": 14,
    "start_time": "2024-12-27T22:09:56.440Z"
   },
   {
    "duration": 5,
    "start_time": "2024-12-27T22:09:56.455Z"
   },
   {
    "duration": 11,
    "start_time": "2024-12-27T22:09:56.461Z"
   },
   {
    "duration": 8,
    "start_time": "2024-12-27T22:09:56.475Z"
   },
   {
    "duration": 3,
    "start_time": "2024-12-27T22:09:56.485Z"
   },
   {
    "duration": 8,
    "start_time": "2024-12-27T22:09:56.489Z"
   },
   {
    "duration": 44,
    "start_time": "2024-12-27T22:09:56.499Z"
   },
   {
    "duration": 2458,
    "start_time": "2024-12-27T22:09:56.545Z"
   },
   {
    "duration": 3,
    "start_time": "2024-12-27T22:09:59.004Z"
   },
   {
    "duration": 4,
    "start_time": "2024-12-27T22:09:59.009Z"
   },
   {
    "duration": 10,
    "start_time": "2024-12-27T22:09:59.015Z"
   },
   {
    "duration": 104,
    "start_time": "2024-12-27T22:09:59.027Z"
   },
   {
    "duration": 8,
    "start_time": "2024-12-27T22:09:59.135Z"
   },
   {
    "duration": 17,
    "start_time": "2024-12-27T22:09:59.145Z"
   },
   {
    "duration": 31,
    "start_time": "2024-12-27T22:09:59.164Z"
   },
   {
    "duration": 3,
    "start_time": "2024-12-27T22:09:59.196Z"
   },
   {
    "duration": 5,
    "start_time": "2024-12-27T22:09:59.201Z"
   },
   {
    "duration": 35,
    "start_time": "2024-12-27T22:09:59.207Z"
   },
   {
    "duration": 7,
    "start_time": "2024-12-27T22:09:59.244Z"
   },
   {
    "duration": 613,
    "start_time": "2024-12-27T22:09:59.253Z"
   },
   {
    "duration": 3,
    "start_time": "2024-12-27T22:09:59.868Z"
   },
   {
    "duration": 5,
    "start_time": "2024-12-27T22:09:59.873Z"
   },
   {
    "duration": 6,
    "start_time": "2024-12-27T22:09:59.880Z"
   },
   {
    "duration": 3,
    "start_time": "2024-12-27T22:09:59.887Z"
   },
   {
    "duration": 17,
    "start_time": "2024-12-27T22:09:59.892Z"
   },
   {
    "duration": 32,
    "start_time": "2024-12-27T22:09:59.911Z"
   },
   {
    "duration": 3,
    "start_time": "2024-12-27T22:09:59.944Z"
   },
   {
    "duration": 7,
    "start_time": "2024-12-27T22:09:59.948Z"
   },
   {
    "duration": 3,
    "start_time": "2024-12-27T22:09:59.956Z"
   },
   {
    "duration": 4,
    "start_time": "2024-12-27T22:09:59.961Z"
   },
   {
    "duration": 2,
    "start_time": "2024-12-27T22:09:59.967Z"
   },
   {
    "duration": 74,
    "start_time": "2024-12-27T22:09:59.971Z"
   },
   {
    "duration": 3,
    "start_time": "2024-12-27T22:10:00.046Z"
   },
   {
    "duration": 2,
    "start_time": "2024-12-27T22:10:00.051Z"
   },
   {
    "duration": 5,
    "start_time": "2024-12-27T22:10:00.055Z"
   },
   {
    "duration": 95,
    "start_time": "2024-12-27T22:10:00.062Z"
   },
   {
    "duration": 4,
    "start_time": "2024-12-27T22:10:00.158Z"
   },
   {
    "duration": 3,
    "start_time": "2024-12-27T22:10:00.163Z"
   },
   {
    "duration": 3,
    "start_time": "2024-12-27T22:10:00.168Z"
   },
   {
    "duration": 71,
    "start_time": "2024-12-27T22:10:00.176Z"
   },
   {
    "duration": 5,
    "start_time": "2024-12-27T22:10:00.248Z"
   },
   {
    "duration": 7,
    "start_time": "2024-12-27T22:10:56.829Z"
   },
   {
    "duration": 7,
    "start_time": "2024-12-27T22:12:03.712Z"
   },
   {
    "duration": 7,
    "start_time": "2024-12-27T22:12:14.177Z"
   },
   {
    "duration": 8,
    "start_time": "2024-12-27T22:14:50.980Z"
   },
   {
    "duration": 7,
    "start_time": "2024-12-27T22:16:31.042Z"
   },
   {
    "duration": 4,
    "start_time": "2024-12-27T22:16:36.930Z"
   },
   {
    "duration": 8,
    "start_time": "2024-12-27T22:16:43.671Z"
   },
   {
    "duration": 3,
    "start_time": "2024-12-27T23:18:20.972Z"
   },
   {
    "duration": 2758,
    "start_time": "2024-12-28T02:28:09.726Z"
   },
   {
    "duration": 9,
    "start_time": "2024-12-28T02:28:12.486Z"
   },
   {
    "duration": 3,
    "start_time": "2024-12-28T02:28:12.497Z"
   },
   {
    "duration": 10,
    "start_time": "2024-12-28T02:28:12.502Z"
   },
   {
    "duration": 8,
    "start_time": "2024-12-28T02:28:12.524Z"
   },
   {
    "duration": 3,
    "start_time": "2024-12-28T02:28:12.534Z"
   },
   {
    "duration": 9,
    "start_time": "2024-12-28T02:28:12.538Z"
   },
   {
    "duration": 16,
    "start_time": "2024-12-28T02:28:12.548Z"
   },
   {
    "duration": 2538,
    "start_time": "2024-12-28T02:28:12.566Z"
   },
   {
    "duration": 2,
    "start_time": "2024-12-28T02:28:15.108Z"
   },
   {
    "duration": 4,
    "start_time": "2024-12-28T02:28:15.112Z"
   },
   {
    "duration": 15,
    "start_time": "2024-12-28T02:28:15.117Z"
   },
   {
    "duration": 108,
    "start_time": "2024-12-28T02:28:15.134Z"
   },
   {
    "duration": 3,
    "start_time": "2024-12-28T02:28:15.243Z"
   },
   {
    "duration": 18,
    "start_time": "2024-12-28T02:28:15.248Z"
   },
   {
    "duration": 59,
    "start_time": "2024-12-28T02:28:15.267Z"
   },
   {
    "duration": 4,
    "start_time": "2024-12-28T02:28:15.327Z"
   },
   {
    "duration": 7,
    "start_time": "2024-12-28T02:28:22.026Z"
   },
   {
    "duration": 4,
    "start_time": "2024-12-28T02:28:54.192Z"
   },
   {
    "duration": 166,
    "start_time": "2024-12-28T05:37:14.035Z"
   },
   {
    "duration": 2711,
    "start_time": "2024-12-28T05:37:17.933Z"
   },
   {
    "duration": 14,
    "start_time": "2024-12-28T05:37:20.646Z"
   },
   {
    "duration": 3,
    "start_time": "2024-12-28T05:37:20.661Z"
   },
   {
    "duration": 9,
    "start_time": "2024-12-28T05:37:20.667Z"
   },
   {
    "duration": 10,
    "start_time": "2024-12-28T05:37:20.678Z"
   },
   {
    "duration": 4,
    "start_time": "2024-12-28T05:37:20.705Z"
   },
   {
    "duration": 11,
    "start_time": "2024-12-28T05:37:20.710Z"
   },
   {
    "duration": 16,
    "start_time": "2024-12-28T05:37:20.722Z"
   },
   {
    "duration": 2523,
    "start_time": "2024-12-28T05:37:20.739Z"
   },
   {
    "duration": 3,
    "start_time": "2024-12-28T05:37:23.265Z"
   },
   {
    "duration": 4,
    "start_time": "2024-12-28T05:37:23.271Z"
   },
   {
    "duration": 11,
    "start_time": "2024-12-28T05:37:23.276Z"
   },
   {
    "duration": 19,
    "start_time": "2024-12-28T05:37:23.288Z"
   },
   {
    "duration": 2,
    "start_time": "2024-12-28T05:37:23.308Z"
   },
   {
    "duration": 17,
    "start_time": "2024-12-28T05:37:23.312Z"
   },
   {
    "duration": 32,
    "start_time": "2024-12-28T05:37:23.330Z"
   },
   {
    "duration": 4,
    "start_time": "2024-12-28T05:37:36.111Z"
   },
   {
    "duration": 6,
    "start_time": "2024-12-28T05:38:10.813Z"
   },
   {
    "duration": 5,
    "start_time": "2024-12-28T05:38:17.246Z"
   },
   {
    "duration": 4,
    "start_time": "2024-12-28T05:38:37.147Z"
   },
   {
    "duration": 5,
    "start_time": "2024-12-28T05:39:05.796Z"
   },
   {
    "duration": 6,
    "start_time": "2024-12-28T05:39:08.629Z"
   },
   {
    "duration": 7,
    "start_time": "2024-12-28T05:42:07.642Z"
   },
   {
    "duration": 569,
    "start_time": "2024-12-28T05:42:08.579Z"
   },
   {
    "duration": 3,
    "start_time": "2024-12-28T05:42:10.212Z"
   },
   {
    "duration": 5,
    "start_time": "2024-12-28T05:42:13.882Z"
   },
   {
    "duration": 6,
    "start_time": "2024-12-28T05:42:18.861Z"
   },
   {
    "duration": 3,
    "start_time": "2024-12-28T05:42:43.761Z"
   },
   {
    "duration": 18,
    "start_time": "2024-12-28T05:42:47.098Z"
   },
   {
    "duration": 6,
    "start_time": "2024-12-28T06:36:45.138Z"
   },
   {
    "duration": 6,
    "start_time": "2024-12-28T20:09:52.079Z"
   },
   {
    "duration": 159,
    "start_time": "2024-12-28T20:09:53.531Z"
   },
   {
    "duration": 2740,
    "start_time": "2024-12-28T20:09:58.579Z"
   },
   {
    "duration": 15,
    "start_time": "2024-12-28T20:10:01.322Z"
   },
   {
    "duration": 4,
    "start_time": "2024-12-28T20:10:01.339Z"
   },
   {
    "duration": 11,
    "start_time": "2024-12-28T20:10:01.345Z"
   },
   {
    "duration": 9,
    "start_time": "2024-12-28T20:10:01.358Z"
   },
   {
    "duration": 21,
    "start_time": "2024-12-28T20:10:01.369Z"
   },
   {
    "duration": 9,
    "start_time": "2024-12-28T20:10:01.392Z"
   },
   {
    "duration": 17,
    "start_time": "2024-12-28T20:10:01.404Z"
   },
   {
    "duration": 2737,
    "start_time": "2024-12-28T20:10:01.422Z"
   },
   {
    "duration": 2,
    "start_time": "2024-12-28T20:10:04.163Z"
   },
   {
    "duration": 4,
    "start_time": "2024-12-28T20:10:04.166Z"
   },
   {
    "duration": 101,
    "start_time": "2024-12-28T20:10:04.172Z"
   },
   {
    "duration": 21,
    "start_time": "2024-12-28T20:10:04.275Z"
   },
   {
    "duration": 3,
    "start_time": "2024-12-28T20:10:04.298Z"
   },
   {
    "duration": 18,
    "start_time": "2024-12-28T20:10:04.302Z"
   },
   {
    "duration": 31,
    "start_time": "2024-12-28T20:10:04.322Z"
   },
   {
    "duration": 4,
    "start_time": "2024-12-28T20:10:04.355Z"
   },
   {
    "duration": 28,
    "start_time": "2024-12-28T20:10:04.361Z"
   },
   {
    "duration": 4,
    "start_time": "2024-12-28T20:10:04.391Z"
   },
   {
    "duration": 5,
    "start_time": "2024-12-28T20:10:04.397Z"
   },
   {
    "duration": 8,
    "start_time": "2024-12-28T20:10:04.403Z"
   },
   {
    "duration": 8,
    "start_time": "2024-12-28T20:10:04.412Z"
   },
   {
    "duration": 624,
    "start_time": "2024-12-28T20:10:04.422Z"
   },
   {
    "duration": 4,
    "start_time": "2024-12-28T20:10:05.048Z"
   },
   {
    "duration": 3,
    "start_time": "2024-12-28T20:10:08.328Z"
   },
   {
    "duration": 7,
    "start_time": "2024-12-28T20:10:09.501Z"
   },
   {
    "duration": 3,
    "start_time": "2024-12-28T20:10:36.625Z"
   },
   {
    "duration": 6,
    "start_time": "2024-12-28T20:10:37.094Z"
   },
   {
    "duration": 3,
    "start_time": "2024-12-28T20:11:44.831Z"
   },
   {
    "duration": 246,
    "start_time": "2024-12-28T20:11:45.449Z"
   },
   {
    "duration": 3,
    "start_time": "2024-12-28T20:11:58.524Z"
   },
   {
    "duration": 65,
    "start_time": "2024-12-28T20:11:59.412Z"
   },
   {
    "duration": 3,
    "start_time": "2024-12-28T20:12:13.694Z"
   },
   {
    "duration": 21,
    "start_time": "2024-12-28T20:12:14.595Z"
   },
   {
    "duration": 3,
    "start_time": "2024-12-28T20:12:57.730Z"
   },
   {
    "duration": 20,
    "start_time": "2024-12-28T20:12:59.070Z"
   },
   {
    "duration": 3,
    "start_time": "2024-12-28T20:13:23.196Z"
   },
   {
    "duration": 5,
    "start_time": "2024-12-28T20:13:23.714Z"
   },
   {
    "duration": 3,
    "start_time": "2024-12-28T20:23:16.028Z"
   },
   {
    "duration": 6,
    "start_time": "2024-12-28T20:23:16.527Z"
   },
   {
    "duration": 4,
    "start_time": "2024-12-28T20:24:20.759Z"
   },
   {
    "duration": 3,
    "start_time": "2024-12-28T20:24:34.523Z"
   },
   {
    "duration": 8,
    "start_time": "2024-12-28T20:24:35.286Z"
   },
   {
    "duration": 6,
    "start_time": "2024-12-28T20:25:07.077Z"
   },
   {
    "duration": 3,
    "start_time": "2024-12-28T20:25:12.005Z"
   },
   {
    "duration": 3,
    "start_time": "2024-12-28T20:25:28.724Z"
   },
   {
    "duration": 6,
    "start_time": "2024-12-28T20:25:29.162Z"
   },
   {
    "duration": 7,
    "start_time": "2024-12-28T20:25:31.328Z"
   }
  ],
  "kernelspec": {
   "display_name": "Python 3 (ipykernel)",
   "language": "python",
   "name": "python3"
  },
  "language_info": {
   "codemirror_mode": {
    "name": "ipython",
    "version": 3
   },
   "file_extension": ".py",
   "mimetype": "text/x-python",
   "name": "python",
   "nbconvert_exporter": "python",
   "pygments_lexer": "ipython3",
   "version": "3.9.19"
  },
  "toc": {
   "base_numbering": 1,
   "nav_menu": {},
   "number_sections": true,
   "sideBar": true,
   "skip_h1_title": true,
   "title_cell": "Table of Contents",
   "title_sidebar": "Contents",
   "toc_cell": false,
   "toc_position": {
    "height": "calc(100% - 180px)",
    "left": "10px",
    "top": "150px",
    "width": "180.6px"
   },
   "toc_section_display": true,
   "toc_window_display": true
  }
 },
 "nbformat": 4,
 "nbformat_minor": 4
}
